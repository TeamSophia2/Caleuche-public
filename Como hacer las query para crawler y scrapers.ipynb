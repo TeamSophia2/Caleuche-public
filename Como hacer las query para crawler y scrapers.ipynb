{
 "cells": [
  {
   "cell_type": "code",
   "execution_count": 1,
   "metadata": {},
   "outputs": [],
   "source": [
    "from Utils_sandbox import *"
   ]
  },
  {
   "cell_type": "markdown",
   "metadata": {},
   "source": [
    "# Creacion de query xpath para un crawler"
   ]
  },
  {
   "cell_type": "markdown",
   "metadata": {},
   "source": [
    "## Extraccion de la respuesta de un medio especifico"
   ]
  },
  {
   "cell_type": "code",
   "execution_count": 2,
   "metadata": {},
   "outputs": [
    {
     "name": "stdout",
     "output_type": "stream",
     "text": [
      "https://www.eldinamo.cl/noticias/nacional/\n"
     ]
    }
   ],
   "source": [
    "response = start_request(\"https://www.eldinamo.cl/noticias/nacional/\")"
   ]
  },
  {
   "cell_type": "markdown",
   "metadata": {},
   "source": [
    "## Todos los elementos de una pagina"
   ]
  },
  {
   "cell_type": "code",
   "execution_count": 3,
   "metadata": {},
   "outputs": [
    {
     "data": {
      "text/plain": [
       "[<Element 'html' class=('no-js',) lang='es'>,\n",
       " <Element 'head' >,\n",
       " <Element 'meta' charset='utf-8'>,\n",
       " <Element 'meta' http-equiv='X-UA-Compatible' content='IE=edge,chrome=1'>,\n",
       " <Element 'meta' name='description' content=''>,\n",
       " <Element 'meta' name='viewport' content='width=device-width, initial-scale=1'>,\n",
       " <Element 'meta' http-equiv='cache-control' content='max-age=0'>,\n",
       " <Element 'meta' http-equiv='cache-control' content='no-cache'>,\n",
       " <Element 'meta' http-equiv='expires' content='0'>,\n",
       " <Element 'meta' http-equiv='expires' content='Tue, 01 Jan 1980 1:00:00 GMT'>,\n",
       " <Element 'meta' http-equiv='pragma' content='no-cache'>,\n",
       " <Element 'link' rel=('dns-prefetch',) href='//fonts.googleapis.com'>,\n",
       " <Element 'link' rel=('dns-prefetch',) href='//connect.facebook.net'>,\n",
       " <Element 'link' rel=('dns-prefetch',) href='//securepubads.g.doubleclick.net'>,\n",
       " <Element 'link' rel=('dns-prefetch',) href='//www.googletagservices.com'>,\n",
       " <Element 'link' rel=('dns-prefetch',) href='//youtube.com'>,\n",
       " <Element 'link' rel=('dns-prefetch',) href='//cdnjs.cloudflare.com'>,\n",
       " <Element 'link' rel=('dns-prefetch',) href='//platform.twitter.com'>,\n",
       " <Element 'link' rel=('dns-prefetch',) href='//platform.instagram.com'>,\n",
       " <Element 'link' rel=('dns-prefetch',) href='//mowplayer.com'>,\n",
       " <Element 'link' href='https://fonts.googleapis.com/css?family=Noto+Serif:400,400i,700,700i|Francois+One|Open+Sans:700|Roboto+Condensed:300,300i,400,400i,700,700i|Roboto:300,400,500,700' rel=('stylesheet',)>,\n",
       " <Element 'link' rel=('stylesheet',) type='text/css' href='https://www.eldinamo.cl/wp-content/themes/eldinamov5/css/normalize.css'>,\n",
       " <Element 'link' rel=('stylesheet',) type='text/css' href='https://www.eldinamo.cl/wp-content/themes/eldinamov5/js/owl/owl.carousel.css'>,\n",
       " <Element 'link' rel=('stylesheet',) href='https://vjs.zencdn.net/6.6.3/video-js.css'>,\n",
       " <Element 'link' rel=('stylesheet',) href='https://cdnjs.cloudflare.com/ajax/libs/videojs-contrib-ads/6.2.1/videojs.ads.css'>,\n",
       " <Element 'link' rel=('stylesheet',) type='text/css' href='https://www.eldinamo.cl/wp-content/themes/eldinamov5/css/videojs.ima.css'>,\n",
       " <Element 'link' rel=('stylesheet',) type='text/css' href='https://www.eldinamo.cl/wp-content/themes/eldinamov5/css/main.css?ver=20200805'>,\n",
       " <Element 'link' rel=('stylesheet',) type='text/css' href='https://www.eldinamo.cl/wp-content/themes/eldinamov5/css/style-tablet.css?ver=20200805'>,\n",
       " <Element 'link' rel=('stylesheet',) type='text/css' href='https://www.eldinamo.cl/wp-content/themes/eldinamov5/css/style-mobile.css?ver=20200805'>,\n",
       " <Element 'link' href='https://www.eldinamo.cl/wp-content/themes/eldinamov5/css/dfpstyles.css?ver=20200805' rel=('stylesheet',) type='text/css' media='all'>,\n",
       " <Element 'meta' property='fb:admins' content='680308780'>,\n",
       " <Element 'meta' property='fb:app_id' content='303880779717204'>,\n",
       " <Element 'meta' property='fb:pages' content='152487464792442'>,\n",
       " <Element 'meta' property='og:site_name' content='https://www.facebook.com/el.dinamo'>,\n",
       " <Element 'meta' property='og:type' content='website'>,\n",
       " <Element 'meta' property='og:title' content='El Dínamo'>,\n",
       " <Element 'meta' property='og:image' content='https://www.eldinamo.cl/meta-logo.png'>,\n",
       " <Element 'meta' property='og:url' content='https://www.eldinamo.cl'>,\n",
       " <Element 'meta' property='og:description' content='Medio digital'>,\n",
       " <Element 'meta' name='description' content='Medio digital'>,\n",
       " <Element 'script' type='application/ld+json'>,\n",
       " <Element 'title' >,\n",
       " <Element 'meta' name='robots' content='index, follow'>,\n",
       " <Element 'meta' name='googlebot' content='index, follow, max-snippet:-1, max-image-preview:large, max-video-preview:-1'>,\n",
       " <Element 'meta' name='bingbot' content='index, follow, max-snippet:-1, max-image-preview:large, max-video-preview:-1'>,\n",
       " <Element 'link' rel=('canonical',) href='https://www.eldinamo.cl/noticias/nacional/'>,\n",
       " <Element 'link' rel=('next',) href='https://www.eldinamo.cl/noticias/nacional/page/2/'>,\n",
       " <Element 'script' type='application/ld+json' class=('yoast-schema-graph',)>,\n",
       " <Element 'link' rel=('alternate',) type='application/rss+xml' title='Feed de categoría El Dínamo » Nacional' href='https://www.eldinamo.cl/noticias/nacional/feed/'>,\n",
       " <Element 'link' rel=('stylesheet',) id='wp-block-library-css' href='https://www.eldinamo.cl/wp-includes/css/dist/block-library/style.min.css?ver=5.3.4' type='text/css' media='all'>,\n",
       " <Element 'script' type='text/javascript' src='https://www.eldinamo.cl/wp-includes/js/jquery/jquery.js?ver=1.12.4-wp'>,\n",
       " <Element 'link' rel=('https://api.w.org/',) href='https://www.eldinamo.cl/wp-json/'>,\n",
       " <Element 'link' rel=('EditURI',) type='application/rsd+xml' title='RSD' href='https://www.eldinamo.cl/xmlrpc.php?rsd'>,\n",
       " <Element 'link' rel=('wlwmanifest',) type='application/wlwmanifest+xml' href='https://www.eldinamo.cl/wp-includes/wlwmanifest.xml'>,\n",
       " <Element 'meta' name='generator' content='WordPress 5.3.4'>,\n",
       " <Element 'meta' property='fb:pages' content='152487464792442'>,\n",
       " <Element 'meta' property='ia:markup_url' content='https://www.eldinamo.cl/nacional/2020/08/24/canal-13-franco-parisi-empresa-inmobiliaria/?ia_markup=1'>,\n",
       " <Element 'link' rel=('icon',) href='https://www.eldinamo.cl/wp-content/uploads/2017/07/cropped-Untitled-1-32x32.jpg' sizes='32x32'>,\n",
       " <Element 'link' rel=('icon',) href='https://www.eldinamo.cl/wp-content/uploads/2017/07/cropped-Untitled-1-192x192.jpg' sizes='192x192'>,\n",
       " <Element 'link' rel=('apple-touch-icon-precomposed',) href='https://www.eldinamo.cl/wp-content/uploads/2017/07/cropped-Untitled-1-180x180.jpg'>,\n",
       " <Element 'meta' name='msapplication-TileImage' content='https://www.eldinamo.cl/wp-content/uploads/2017/07/cropped-Untitled-1-270x270.jpg'>,\n",
       " <Element 'script' >,\n",
       " <Element 'script' >,\n",
       " <Element 'script' >,\n",
       " <Element 'noscript' >,\n",
       " <Element 'img' src='https://sb.scorecardresearch.com/p?c1=2&c2=32669194&cv=2.0&cj=1'>,\n",
       " <Element 'script' type='text/javascript'>,\n",
       " <Element 'script' src='https://www.eldinamo.cl/wp-content/themes/eldinamov5/js/timeago.js'>,\n",
       " <Element 'script' src='https://www.eldinamo.cl/wp-content/themes/eldinamov5/js/owl/owl.carousel.min.js'>,\n",
       " <Element 'script' src='https://www.eldinamo.cl/wp-content/themes/eldinamov5/js/js.cookie-2.1.3.min.js'>,\n",
       " <Element 'script' >,\n",
       " <Element 'script' src='https://vjs.zencdn.net/6.6.3/video.js'>,\n",
       " <Element 'script' src='//imasdk.googleapis.com/js/sdkloader/ima3.js'>,\n",
       " <Element 'script' src='https://cdnjs.cloudflare.com/ajax/libs/videojs-contrib-ads/6.0.1/videojs.ads.min.js'>,\n",
       " <Element 'script' src='https://www.eldinamo.cl/wp-content/themes/eldinamov5/js/videojs.ima.js'>,\n",
       " <Element 'script' src='https://www.eldinamo.cl/wp-content/themes/eldinamov5/js/main.js?ver=20200805'>,\n",
       " <Element 'script' async='async' src='https://www.googletagservices.com/tag/js/gpt.js'>,\n",
       " <Element 'script' >,\n",
       " <Element 'script' >,\n",
       " <Element 'script' async='' src='//pagead2.googlesyndication.com/pagead/js/adsbygoogle.js'>,\n",
       " <Element 'script' >,\n",
       " <Element 'script' async='' src='https://cdn.insurads.com/bootstrap/HROAAIVT.js'>,\n",
       " <Element 'script' >,\n",
       " <Element 'script' src='https://mcdn.mingadigital.com/libs/mapad.js'>,\n",
       " <Element 'body' style='overflow:visible !important;'>,\n",
       " <Element 'noscript' >,\n",
       " <Element 'iframe' src='https://www.googletagmanager.com/ns.html?id=GTM-W8NG7MX' height='0' width='0' style='display:none;visibility:hidden'>,\n",
       " <Element 'div' id='fb-root'>,\n",
       " <Element 'script' >,\n",
       " <Element 'div' id='d5-fuera-de-pagina'>,\n",
       " <Element 'script' >,\n",
       " <Element 'div' id='d5-1x1'>,\n",
       " <Element 'script' >,\n",
       " <Element 'script' >,\n",
       " <Element 'div' id='contenedor-itt' class=('addesktop',)>,\n",
       " <Element 'div' id='d5-itt' class=('addesktop',)>,\n",
       " <Element 'a' id='close-ittfalso'>,\n",
       " <Element 'script' >,\n",
       " <Element 'div' id='contenedor-movil-itt' class=('admovil',)>,\n",
       " <Element 'div' id='d5-movil-itt' class=('admovil',)>,\n",
       " <Element 'a' id='close-ittmovil'>,\n",
       " <Element 'script' >,\n",
       " <Element 'script' >,\n",
       " <Element 'header' >,\n",
       " <Element 'div' class=('container', 'clearfix')>,\n",
       " <Element 'a' class=('menu-toggle', 'visiblemobile')>,\n",
       " <Element 'a' class=('logo',) href='https://www.eldinamo.cl' title='El Dínamo'>,\n",
       " <Element 'nav' class=('menu-principal',)>,\n",
       " <Element 'ul' >,\n",
       " <Element 'li' >,\n",
       " <Element 'a' href='/noticias/nacional/' title='Nacional'>,\n",
       " <Element 'li' >,\n",
       " <Element 'a' href='/noticias/actualidad/' title='Actualidad'>,\n",
       " <Element 'li' >,\n",
       " <Element 'a' href='/noticias/deportes/' title='Deportes'>,\n",
       " <Element 'li' >,\n",
       " <Element 'a' href='/noticias/educacion/' title='Educación'>,\n",
       " <Element 'li' >,\n",
       " <Element 'a' href='/blog/' title='Opinión'>,\n",
       " <Element 'li' >,\n",
       " <Element 'a' href='/noticias/empren-d/' title='Empren-D'>,\n",
       " <Element 'li' >,\n",
       " <Element 'a' href='/noticias/chequeo/' title='Chequeo'>,\n",
       " <Element 'li' >,\n",
       " <Element 'a' href='/newsletters/' title='Newsletters'>,\n",
       " <Element 'div' class=('links-redes',)>,\n",
       " <Element 'a' class=('link-fb',) href='https://www.facebook.com/el.dinamo' target='_blank' title='Facebook El Dínamo'>,\n",
       " <Element 'a' class=('link-tw',) href='https://twitter.com/el_dinamo' target='_blank' title='Twitter El Dínamo'>,\n",
       " <Element 'a' class=('link-ig',) href='https://www.instagram.com/el_dinamo/' target='_blank' title='Instagram El Dínamo'>,\n",
       " <Element 'div' class=('barra-busqueda', 'clearfix')>,\n",
       " <Element 'a' class=('boton-buscar',) title='Buscar'>,\n",
       " <Element 'form' class=('search', 'oculta') method='get' action='https://www.eldinamo.cl' role='search'>,\n",
       " <Element 'input' class=('search-input',) type='search' name='s' placeholder='Presiona enter para buscar…'>,\n",
       " <Element 'div' id='d5-980-1' class=('addesktop',) style='margin: -5px auto 20px; text-align:center;max-width:980px;'>,\n",
       " <Element 'script' type='text/javascript'>,\n",
       " <Element 'main' class=('categoria',)>,\n",
       " <Element 'div' id='d5-movil-1' class=('admovil',) style='margin: 0 auto 10px; clear: both; padding: 10px 0 0; text-align: center;'>,\n",
       " <Element 'script' type='text/javascript'>,\n",
       " <Element 'div' class=('container', 'clearfix')>,\n",
       " <Element 'div' class=('oreja-izquierda', 'addesktop') style='margin:0 auto;text-align:center;'>,\n",
       " <Element 'div' id='d5-skin-izq' class=('addesktop',)>,\n",
       " <Element 'script' type='text/javascript'>,\n",
       " <Element 'div' class=('oreja-derecha', 'addesktop')>,\n",
       " <Element 'div' id='d5-skin-der' class=('addesktop',) style='margin:0 auto;text-align:center;'>,\n",
       " <Element 'script' type='text/javascript'>,\n",
       " <Element 'div' class=('destacados-categoria', 'clearfix')>,\n",
       " <Element 'div' class=('titular-categoria',)>,\n",
       " <Element 'h1' >,\n",
       " <Element 'div' class=('contenedor-izquierda',)>,\n",
       " <Element 'section' class=('destacado-grande',)>,\n",
       " <Element 'article' >,\n",
       " <Element 'img' class=('wp-post-image', 'visibledesktop') src='https://www.eldinamo.cl/wp-content/uploads/2020/08/A_UNO_1181216-1-785x525.jpg' alt='Estallido social y coronavirus: el tiro de gracia a históricas marcas chilenas'>,\n",
       " <Element 'img' class=('wp-post-image', 'visiblemobile') src='https://www.eldinamo.cl/wp-content/uploads/2020/08/A_UNO_1181216-1-371x251.jpg' alt='Estallido social y coronavirus: el tiro de gracia a históricas marcas chilenas'>,\n",
       " <Element 'div' class=('mascara',)>,\n",
       " <Element 'div' class=('titulares',)>,\n",
       " <Element 'h1' >,\n",
       " <Element 'a' href='https://www.eldinamo.cl/nacional/2020/08/24/estallido-social-coronavirus-marcas-chilenas/' title='Estallido social y coronavirus: el tiro de gracia a históricas marcas chilenas' rel=('bookmark',)>,\n",
       " <Element 'span' class=('autor',)>,\n",
       " <Element 'div' id='d5-movil-2' class=('admovil',) style='margin:0 auto 22px; text-align: center;'>,\n",
       " <Element 'script' type='text/javascript'>,\n",
       " <Element 'section' class=('destacados-fila', 'clearfix')>,\n",
       " <Element 'article' >,\n",
       " <Element 'img' class=('wp-post-image',) src='https://www.eldinamo.cl/wp-content/uploads/2020/08/A_UNO_1206466-1-371x251.jpg' alt='Plebiscito: Constitución aprueba proyecto que regula financiamiento'>,\n",
       " <Element 'div' class=('titulares',)>,\n",
       " <Element 'h1' >,\n",
       " <Element 'a' href='https://www.eldinamo.cl/nacional/2020/08/24/plebiscito-comision-de-constitucion-aprueba-proyecto-que-regula-el-financiamiento-de-campanas/' title='Plebiscito: Constitución aprueba proyecto que regula financiamiento' rel=('bookmark',)>,\n",
       " <Element 'article' >,\n",
       " <Element 'img' class=('wp-post-image',) src='https://www.eldinamo.cl/wp-content/uploads/2020/08/hermanos-longton-371x251.jpg' alt='Diario Oficial publica ley con nombre de Arturo Longton'>,\n",
       " <Element 'div' class=('titulares',)>,\n",
       " <Element 'h1' >,\n",
       " <Element 'a' href='https://www.eldinamo.cl/nacional/2020/08/24/diario-oficial-publica-ley-con-nombre-de-arturo-longton/' title='Diario Oficial publica ley con nombre de Arturo Longton' rel=('bookmark',)>,\n",
       " <Element 'div' class=('contenedor-derecha',)>,\n",
       " <Element 'section' class=('ultimos-categoria',)>,\n",
       " <Element 'div' id='d5-300-directa-a' class=('addesktop',) style='margin:0 auto 15px; text-align: center;'>,\n",
       " <Element 'script' type='text/javascript'>,\n",
       " <Element 'article' >,\n",
       " <Element 'h1' >,\n",
       " <Element 'a' href='https://www.eldinamo.cl/nacional/2020/08/24/canal-13-franco-parisi-empresa-inmobiliaria/' title='Canal 13 denuncia incumplimientos de empresa inmobiliaria que dirigió Franco Parisi' rel=('bookmark',)>,\n",
       " <Element 'hr' >,\n",
       " <Element 'article' >,\n",
       " <Element 'h1' >,\n",
       " <Element 'a' href='https://www.eldinamo.cl/nacional/2020/08/24/maria-teresa-infante-es-elegida-jueza-del-tribunal-internacional-del-derecho-del-mar/' title='María Teresa Infante es elegida jueza del Tribunal Internacional del Derecho del Mar' rel=('bookmark',)>,\n",
       " <Element 'hr' >,\n",
       " <Element 'article' >,\n",
       " <Element 'h1' >,\n",
       " <Element 'a' href='https://www.eldinamo.cl/nacional/2020/08/24/contraloria-inicia-auditoria-en-sii-y-tesoreria-por-problemas-en-postulacion-a-bono-de-clase-media/' title='Contraloría inicia auditoría en SII y Tesorería por problemas en postulación a Bono de Clase Media' rel=('bookmark',)>,\n",
       " <Element 'hr' >,\n",
       " <Element 'article' >,\n",
       " <Element 'h1' >,\n",
       " <Element 'a' href='https://www.eldinamo.cl/nacional/2020/08/24/presidenta-rd-tenemos-que-asegurar-que-chile-vamos-no-vuelva-a-gobernar/' title='Presidenta RD: “Tenemos que asegurar que Chile Vamos no vuelva a gobernar”' rel=('bookmark',)>,\n",
       " <Element 'hr' >,\n",
       " <Element 'div' id='d5-movil-3' class=('admovil',) style='margin:0 auto; text-align: center;'>,\n",
       " <Element 'script' type='text/javascript'>,\n",
       " <Element 'div' id='d5-336-1' class=('addesktop',) style='margin:20px auto;'>,\n",
       " <Element 'script' type='text/javascript'>,\n",
       " <Element 'section' class=('herramientas', 'herramientas-rework', 'clearfix')>,\n",
       " <Element 'div' class=('link-newsletters',)>,\n",
       " <Element 'strong' class=('visibledesktop',)>,\n",
       " <Element 'a' class=('img-newsletters',) href='/newsletters/' title='El Dínamo Newsletters'>,\n",
       " <Element 'strong' class=('visiblemobile',)>,\n",
       " <Element 'a' class=('link-suscribete',) href='/newsletters/' title='Suscríbeme'>,\n",
       " <Element 'div' id='d5-728-1' class=('addesktop',) style='margin: 0 auto; float:left;'>,\n",
       " <Element 'script' type='text/javascript'>,\n",
       " <Element 'div' id='d5-300-tidok-m' class=('admovil',) style='margin:0 auto 20px;'>,\n",
       " <Element 'script' type='text/javascript'>,\n",
       " <Element 'div' class=('categoria-abajo', 'clearfix')>,\n",
       " <Element 'section' class=('listado',)>,\n",
       " <Element 'div' class=('titular-adorno',)>,\n",
       " <Element 'h3' >,\n",
       " <Element 'article' class=('clearfix',)>,\n",
       " <Element 'img' class=('wp-post-image',) src='https://www.eldinamo.cl/wp-content/uploads/2020/08/A_UNO_100319211-400x267.jpg' alt='“Es bastante irresponsable”: dueños de camiones se distancian de llamado a paro'>,\n",
       " <Element 'div' class=('titulares',)>,\n",
       " <Element 'h1' >,\n",
       " <Element 'a' href='https://www.eldinamo.cl/nacional/2020/08/24/es-bastante-irresponsable-duenos-de-camiones-se-distancian-de-llamado-a-paro/' title='“Es bastante irresponsable”: dueños de camiones se distancian de llamado a paro' rel=('bookmark',)>,\n",
       " <Element 'div' class=('meta',)>,\n",
       " <Element 'span' class=('autor',)>,\n",
       " <Element 'a' href='https://www.eldinamo.cl/author/cristianmeza/' title='Publicados por Cristián Meza' rel=('author',)>,\n",
       " <Element 'span' class=('fecha',)>,\n",
       " <Element 'article' class=('clearfix',)>,\n",
       " <Element 'img' class=('wp-post-image',) src='https://www.eldinamo.cl/wp-content/uploads/2020/08/A_UNO_11846691-400x267.jpg' alt='Chahin a Lavín: “Un UDI, aunque se vista de socialdemócrata, UDI queda”'>,\n",
       " <Element 'div' class=('titulares',)>,\n",
       " <Element 'h1' >,\n",
       " <Element 'a' href='https://www.eldinamo.cl/nacional/2020/08/24/chahin-a-lavin-un-udi-aunque-se-vista-de-socialdemocrata-udi-queda/' title='Chahin a Lavín: “Un UDI, aunque se vista de socialdemócrata, UDI queda”' rel=('bookmark',)>,\n",
       " <Element 'div' class=('meta',)>,\n",
       " <Element 'span' class=('autor',)>,\n",
       " <Element 'a' href='https://www.eldinamo.cl/author/cristianmeza/' title='Publicados por Cristián Meza' rel=('author',)>,\n",
       " <Element 'span' class=('fecha',)>,\n",
       " <Element 'div' id='d5-728-2' class=('addesktop',) style='margin: 10px 0 15px;'>,\n",
       " <Element 'script' type='text/javascript'>,\n",
       " <Element 'article' class=('clearfix',)>,\n",
       " <Element 'img' class=('wp-post-image',) src='https://www.eldinamo.cl/wp-content/uploads/2020/08/A_UNO_12007501-2-400x267.jpg' alt='Diputados presentan proyecto para un segundo retiro de fondos de AFP'>,\n",
       " <Element 'div' class=('titulares',)>,\n",
       " <Element 'h1' >,\n",
       " <Element 'a' href='https://www.eldinamo.cl/nacional/2020/08/24/diputados-presentan-proyecto-para-un-segundo-retiro-de-fondos-de-afp/' title='Diputados presentan proyecto para un segundo retiro de fondos de AFP' rel=('bookmark',)>,\n",
       " <Element 'div' class=('meta',)>,\n",
       " <Element 'span' class=('autor',)>,\n",
       " <Element 'a' href='https://www.eldinamo.cl/author/cristianmeza/' title='Publicados por Cristián Meza' rel=('author',)>,\n",
       " <Element 'span' class=('fecha',)>,\n",
       " <Element 'div' id='d5-movil-4' class=('admovil',) style='margin:0 auto 22px; text-align: center;'>,\n",
       " <Element 'script' type='text/javascript'>,\n",
       " <Element 'article' class=('clearfix',)>,\n",
       " <Element 'img' class=('wp-post-image',) src='https://www.eldinamo.cl/wp-content/uploads/2020/08/Foto-3-3-2-400x267.jpg' alt='Ministro de Obras Públicas constata en terreno los avances de la planta de agua potable Padre Hurtado'>,\n",
       " <Element 'div' class=('titulares',)>,\n",
       " <Element 'h1' >,\n",
       " <Element 'a' href='https://www.eldinamo.cl/nacional/2020/08/24/ministro-de-obras-publicas-constata-en-terreno-los-avances-de-la-planta-de-produccion-de-agua-potable-padre-hurtado/' title='Ministro de Obras Públicas constata en terreno los avances de la planta de agua potable Padre Hurtado' rel=('bookmark',)>,\n",
       " <Element 'div' class=('meta',)>,\n",
       " <Element 'span' class=('autor',)>,\n",
       " <Element 'a' href='https://www.eldinamo.cl/author/el-dinamo/' title='Publicados por EL DÍNAMO' rel=('author',)>,\n",
       " <Element 'span' class=('fecha',)>,\n",
       " <Element 'article' class=('clearfix',)>,\n",
       " <Element 'img' class=('wp-post-image',) src='https://www.eldinamo.cl/wp-content/uploads/2020/08/Autopista-del-Sol-400x267.jpg' alt='Accidente de tránsito en Autopistal del Sol deja al menos cinco fallecidos'>,\n",
       " <Element 'div' class=('titulares',)>,\n",
       " <Element 'h1' >,\n",
       " <Element 'a' href='https://www.eldinamo.cl/nacional/2020/08/24/accidente-de-transito-en-autopistal-del-sol-deja-al-menos-cinco-fallecidos/' title='Accidente de tránsito en Autopistal del Sol deja al menos cinco fallecidos' rel=('bookmark',)>,\n",
       " <Element 'div' class=('meta',)>,\n",
       " <Element 'span' class=('autor',)>,\n",
       " <Element 'a' href='https://www.eldinamo.cl/author/cristianmeza/' title='Publicados por Cristián Meza' rel=('author',)>,\n",
       " <Element 'span' class=('fecha',)>,\n",
       " <Element 'article' class=('clearfix',)>,\n",
       " <Element 'img' class=('wp-post-image',) src='https://www.eldinamo.cl/wp-content/uploads/2020/08/A_UNO_12064421-400x267.jpg' alt='Denunciado por abuso por video en Tik Tok logra la libertad bajo fianza'>,\n",
       " <Element 'div' class=('titulares',)>,\n",
       " <Element 'h1' >,\n",
       " <Element 'a' href='https://www.eldinamo.cl/nacional/2020/08/24/denunciado-por-abuso-por-video-en-tik-tok-logra-la-libertad-bajo-fianza/' title='Denunciado por abuso por video en Tik Tok logra la libertad bajo fianza' rel=('bookmark',)>,\n",
       " <Element 'div' class=('meta',)>,\n",
       " <Element 'span' class=('autor',)>,\n",
       " <Element 'a' href='https://www.eldinamo.cl/author/cristianmeza/' title='Publicados por Cristián Meza' rel=('author',)>,\n",
       " <Element 'span' class=('fecha',)>,\n",
       " <Element 'div' class=('paginacion',)>,\n",
       " <Element 'span' aria-current='page' class=('page-numbers', 'current')>,\n",
       " <Element 'a' class=('page-numbers',) href='https://www.eldinamo.cl/noticias/nacional/page/2/'>,\n",
       " <Element 'a' class=('page-numbers',) href='https://www.eldinamo.cl/noticias/nacional/page/3/'>,\n",
       " <Element 'span' class=('page-numbers', 'dots')>,\n",
       " <Element 'a' class=('page-numbers',) href='https://www.eldinamo.cl/noticias/nacional/page/5040/'>,\n",
       " <Element 'a' class=('next', 'page-numbers') href='https://www.eldinamo.cl/noticias/nacional/page/2/'>,\n",
       " <Element 'div' id='d5-movil-5' class=('admovil',) style='margin:0 auto 22px; text-align: center;'>,\n",
       " <Element 'script' type='text/javascript'>,\n",
       " <Element 'aside' class=('sidebar', 'sidebar-categoria')>,\n",
       " <Element 'div' class=('en-portada', 'clearfix')>,\n",
       " <Element 'div' class=('titular-adorno',)>,\n",
       " <Element 'h5' >,\n",
       " <Element 'article' >,\n",
       " <Element 'a' href='https://www.eldinamo.cl/nacional/2020/08/24/desbordes-advierte-no-quisieramos-ver-derramamiento-de-sangre-de-ningun-chileno-araucania/' title='Desbordes advierte: “No quisiéramos ver derramamiento de sangre de ningún chileno, pero hay gente que (…) está forzando eso”'>,\n",
       " <Element 'img' class=('wp-post-image',) src='https://www.eldinamo.cl/wp-content/uploads/2020/08/A_UNO_1201228-1-371x251.jpg' alt='Desbordes advierte: “No quisiéramos ver derramamiento de sangre de ningún chileno, pero hay gente que (…) está forzando eso”'>,\n",
       " <Element 'h1' >,\n",
       " <Element 'a' href='https://www.eldinamo.cl/nacional/2020/08/24/desbordes-advierte-no-quisieramos-ver-derramamiento-de-sangre-de-ningun-chileno-araucania/' title='Desbordes advierte: “No quisiéramos ver derramamiento de sangre de ningún chileno, pero hay gente que (…) está forzando eso”' rel=('bookmark',)>,\n",
       " <Element 'article' >,\n",
       " <Element 'a' href='https://www.eldinamo.cl/nacional/2020/08/24/plebiscito-comision-de-constitucion-aprueba-proyecto-que-regula-el-financiamiento-de-campanas/' title='Plebiscito: Constitución aprueba proyecto que regula financiamiento'>,\n",
       " <Element 'img' class=('wp-post-image',) src='https://www.eldinamo.cl/wp-content/uploads/2020/08/A_UNO_1206466-1-371x251.jpg' alt='Plebiscito: Constitución aprueba proyecto que regula financiamiento'>,\n",
       " <Element 'h1' >,\n",
       " <Element 'a' href='https://www.eldinamo.cl/nacional/2020/08/24/plebiscito-comision-de-constitucion-aprueba-proyecto-que-regula-el-financiamiento-de-campanas/' title='Plebiscito: Constitución aprueba proyecto que regula financiamiento' rel=('bookmark',)>,\n",
       " <Element 'div' id='d5-336-2' class=('addesktop',) style='margin:0 auto 20px;'>,\n",
       " <Element 'script' type='text/javascript'>,\n",
       " <Element 'div' id='d5-300-tidok-a' class=('addesktop',) style='margin:0 auto 20px;'>,\n",
       " <Element 'script' type='text/javascript'>,\n",
       " <Element 'div' id='d5-336-3' class=('addesktop',) style='margin:0 auto 20px;'>,\n",
       " <Element 'script' type='text/javascript'>,\n",
       " <Element 'div' id='d5-336-4' class=('addesktop',) style='margin:0 auto 20px;'>,\n",
       " <Element 'script' type='text/javascript'>,\n",
       " <Element 'div' class=('visibledesktop',) style='width:100%; clear:both; margin:20px auto;'>,\n",
       " <Element 'div' id='d5-728-3' class=('addesktop',) style='margin:0 auto; text-align:center;'>,\n",
       " <Element 'script' type='text/javascript'>,\n",
       " <Element 'footer' >,\n",
       " <Element 'div' class=('container', 'clearfix')>,\n",
       " <Element 'div' class=('footer-izq',)>,\n",
       " <Element 'a' class=('logo',) href='https://www.eldinamo.cl' title='El Dínamo'>,\n",
       " <Element 'ul' class=('menu-footer', 'clearfix')>,\n",
       " <Element 'li' >,\n",
       " <Element 'a' href='https://www.eldinamo.cl' title='El Dínamo'>,\n",
       " <Element 'li' >,\n",
       " <Element 'a' href='/noticias/nacional/' title='Nacional'>,\n",
       " <Element 'li' >,\n",
       " <Element 'a' href='/noticias/deportes/' title='Deportes'>,\n",
       " <Element 'li' >,\n",
       " <Element 'a' href='/noticias/educacion/' title='Educación'>,\n",
       " <Element 'li' >,\n",
       " <Element 'a' href='/blog/' title='Opinión'>,\n",
       " <Element 'li' >,\n",
       " <Element 'a' href='/noticias/empren-d/' title='Empren-D'>,\n",
       " <Element 'li' >,\n",
       " <Element 'a' href='/noticias/chequeo/' title='Chequeo'>,\n",
       " <Element 'li' >,\n",
       " <Element 'a' href='/newsletters/' title='Newsletters'>,\n",
       " <Element 'div' class=('footer-medio',)>,\n",
       " <Element 'div' class=('footer-redes',)>,\n",
       " <Element 'h4' >,\n",
       " <Element 'div' class=('links-redes',)>,\n",
       " <Element 'a' class=('link-fb',) href='https://www.facebook.com/el.dinamo' target='_blank' title='Facebook El Dínamo'>,\n",
       " <Element 'a' class=('link-tw',) href='https://twitter.com/el_dinamo' target='_blank' title='Twitter El Dínamo'>,\n",
       " <Element 'a' class=('link-ig',) href='https://www.instagram.com/el_dinamo/' target='_blank' title='Instagram El Dínamo'>,\n",
       " <Element 'div' class=('footer-sub',)>,\n",
       " <Element 'h4' >,\n",
       " <Element 'div' class=('link-newsletters',)>,\n",
       " <Element 'strong' class=('visibledesktop',)>,\n",
       " <Element 'a' class=('img-newsletters',) href='/newsletters/' title='El Dínamo Newsletters'>,\n",
       " <Element 'strong' class=('visiblemobile',)>,\n",
       " <Element 'a' class=('link-suscribete',) href='/newsletters/' title='Suscríbeme'>,\n",
       " <Element 'div' class=('footer-der',)>,\n",
       " <Element 'ul' class=('lista-paginas',)>,\n",
       " <Element 'li' >,\n",
       " <Element 'a' href='/quienes-somos/'>,\n",
       " <Element 'li' >,\n",
       " <Element 'a' href='/politica-de-privacidad/'>,\n",
       " <Element 'li' >,\n",
       " <Element 'a' href='/terminos-y-condiciones/'>,\n",
       " <Element 'li' >,\n",
       " <Element 'a' href='/avisos-legales/'>,\n",
       " <Element 'li' >,\n",
       " <Element 'a' href='/contacto/'>,\n",
       " <Element 'li' >,\n",
       " <Element 'a' href='/publicidad/'>,\n",
       " <Element 'li' >,\n",
       " <Element 'a' href='https://tarifas.servel.cl/administracion/pdf_prensaElectronica/PE%20-%20745' target='_blank'>,\n",
       " <Element 'li' >,\n",
       " <Element 'a' href='http://www.estoyseguro.cl' target='_blank'>,\n",
       " <Element 'script' type='text/javascript' src='https://www.eldinamo.cl/wp-includes/js/wp-embed.min.js?ver=5.3.4'>,\n",
       " <Element 'script' >]"
      ]
     },
     "execution_count": 3,
     "metadata": {},
     "output_type": "execute_result"
    }
   ],
   "source": [
    "response.html.xpath(\"//*\")"
   ]
  },
  {
   "cell_type": "markdown",
   "metadata": {},
   "source": [
    "## Elemento especifico"
   ]
  },
  {
   "cell_type": "code",
   "execution_count": 4,
   "metadata": {},
   "outputs": [
    {
     "data": {
      "text/plain": [
       "[<Element 'div' class=('titular-categoria',)>]"
      ]
     },
     "execution_count": 4,
     "metadata": {},
     "output_type": "execute_result"
    }
   ],
   "source": [
    "response.html.xpath(\"//div[@class='titular-categoria']\")"
   ]
  },
  {
   "cell_type": "markdown",
   "metadata": {},
   "source": [
    "### Texto de un elemento especifico"
   ]
  },
  {
   "cell_type": "code",
   "execution_count": 5,
   "metadata": {},
   "outputs": [
    {
     "data": {
      "text/plain": [
       "'Nacional'"
      ]
     },
     "execution_count": 5,
     "metadata": {},
     "output_type": "execute_result"
    }
   ],
   "source": [
    "# Al momento de hacer xpath, siempre se devuelve una lista, por lo que tenemos que tomar el primer elemento\n",
    "response.html.xpath(\"//div[@class='titular-categoria']\")[0].text"
   ]
  },
  {
   "cell_type": "markdown",
   "metadata": {},
   "source": [
    "## Revision de la estructura de crawling"
   ]
  },
  {
   "cell_type": "markdown",
   "metadata": {},
   "source": [
    "### Se espera que la query retorne una lista de enlaces"
   ]
  },
  {
   "cell_type": "code",
   "execution_count": 6,
   "metadata": {},
   "outputs": [
    {
     "name": "stdout",
     "output_type": "stream",
     "text": [
      "\n",
      "    query_extract_all_href = \"//tag[@class='???']//h1/a/@href\"\n",
      "    \n"
     ]
    }
   ],
   "source": [
    "\n",
    "print_crawl_structure()"
   ]
  },
  {
   "cell_type": "markdown",
   "metadata": {},
   "source": [
    "### La seccion \"//h1/a/\" es una recomendacion en como usalmente estan puestos los links, pero no siempre funciona de esa manera"
   ]
  },
  {
   "cell_type": "markdown",
   "metadata": {},
   "source": [
    "### La seccion @href sirve para obtener el campo o atributo relacionado a un link"
   ]
  },
  {
   "cell_type": "code",
   "execution_count": 7,
   "metadata": {},
   "outputs": [],
   "source": [
    "query_extract_all_href = \"//section[@class='listado']//h1/a/@href\"\n"
   ]
  },
  {
   "cell_type": "markdown",
   "metadata": {},
   "source": [
    "### Para probar si la query esta funcionando, deberá devolver una lista de links al momento de ejecutarse"
   ]
  },
  {
   "cell_type": "code",
   "execution_count": 8,
   "metadata": {},
   "outputs": [
    {
     "data": {
      "text/plain": [
       "['https://www.eldinamo.cl/nacional/2020/08/24/es-bastante-irresponsable-duenos-de-camiones-se-distancian-de-llamado-a-paro/',\n",
       " 'https://www.eldinamo.cl/nacional/2020/08/24/chahin-a-lavin-un-udi-aunque-se-vista-de-socialdemocrata-udi-queda/',\n",
       " 'https://www.eldinamo.cl/nacional/2020/08/24/diputados-presentan-proyecto-para-un-segundo-retiro-de-fondos-de-afp/',\n",
       " 'https://www.eldinamo.cl/nacional/2020/08/24/ministro-de-obras-publicas-constata-en-terreno-los-avances-de-la-planta-de-produccion-de-agua-potable-padre-hurtado/',\n",
       " 'https://www.eldinamo.cl/nacional/2020/08/24/accidente-de-transito-en-autopistal-del-sol-deja-al-menos-cinco-fallecidos/',\n",
       " 'https://www.eldinamo.cl/nacional/2020/08/24/denunciado-por-abuso-por-video-en-tik-tok-logra-la-libertad-bajo-fianza/']"
      ]
     },
     "execution_count": 8,
     "metadata": {},
     "output_type": "execute_result"
    }
   ],
   "source": [
    "response.html.xpath(query_extract_all_href)"
   ]
  },
  {
   "cell_type": "markdown",
   "metadata": {},
   "source": [
    "# Creacion de query xpath para un scraper"
   ]
  },
  {
   "cell_type": "markdown",
   "metadata": {},
   "source": [
    "## Revision de la estructura de crawling"
   ]
  },
  {
   "cell_type": "code",
   "execution_count": 9,
   "metadata": {},
   "outputs": [
    {
     "name": "stdout",
     "output_type": "stream",
     "text": [
      "\n",
      "    query_extract_title = '//tag[@class=\"???\"]'\n",
      "    query_extract_text = \"//tag[@class='???']//p\"\n",
      "    query_extract_date = \"//tag[@class='???']\"\n",
      "    \n"
     ]
    }
   ],
   "source": [
    "print_scrap_structure()"
   ]
  },
  {
   "cell_type": "markdown",
   "metadata": {},
   "source": [
    "### Se espera 3 querys en el caso de scraper\n",
    "#### titulo , cuerpo de la noticia y fecha"
   ]
  },
  {
   "cell_type": "markdown",
   "metadata": {},
   "source": [
    "### En este caso, revisamos una noticia en especifico"
   ]
  },
  {
   "cell_type": "code",
   "execution_count": 10,
   "metadata": {},
   "outputs": [
    {
     "name": "stdout",
     "output_type": "stream",
     "text": [
      "https://www.eldinamo.cl/nacional/2020/08/24/diputados-presentan-proyecto-para-un-segundo-retiro-de-fondos-de-afp/\n"
     ]
    }
   ],
   "source": [
    "response = start_request(\"https://www.eldinamo.cl/nacional/2020/08/24/diputados-presentan-proyecto-para-un-segundo-retiro-de-fondos-de-afp/\")"
   ]
  },
  {
   "cell_type": "code",
   "execution_count": 11,
   "metadata": {},
   "outputs": [],
   "source": [
    "query_extract_title = '//h1[@class=\"amp-wp-title\"]'"
   ]
  },
  {
   "cell_type": "markdown",
   "metadata": {},
   "source": [
    "#### Comprobacion de la query title"
   ]
  },
  {
   "cell_type": "code",
   "execution_count": 12,
   "metadata": {},
   "outputs": [
    {
     "data": {
      "text/plain": [
       "'Diputados presentan proyecto para un segundo retiro de fondos de AFP'"
      ]
     },
     "execution_count": 12,
     "metadata": {},
     "output_type": "execute_result"
    }
   ],
   "source": [
    "response.html.xpath(query_extract_title)[0].text"
   ]
  },
  {
   "cell_type": "code",
   "execution_count": 13,
   "metadata": {},
   "outputs": [],
   "source": [
    "query_extract_text = '//div[@class=\"the-content\"]//p'"
   ]
  },
  {
   "cell_type": "markdown",
   "metadata": {},
   "source": [
    "#### Comprobacion de la query text"
   ]
  },
  {
   "cell_type": "code",
   "execution_count": 48,
   "metadata": {},
   "outputs": [
    {
     "name": "stdout",
     "output_type": "stream",
     "text": [
      "El diputado independiente Karim Bianchi, apoyado por Pamela Jiles (PH) y René Saffirio (independiente), presentó un proyecto para que se permita un segundo retiro de fondos previsionales.\n",
      "El parlamentario explicó que “porque sabemos que esta situación va a continuar” se busca que este nuevo retiro se concrete en diciembre próximo, dejando en claro que los recursos involucrados son de los afiliados.\n",
      "La propuesta es similar a la que ya fue aprobada, pero suma la posibilidad de reintegro para que el usuario disponga de esos recursos para futuras necesidades.\n",
      "“Un retiro permanente en el tiempo, acompañado con la posibilidad de reintegro, permitirá a todas las personas poder reaccionar de manera rápida a diversas contingencias que desborden sus finanzas estacionales”, expresó a radio Biobío.\n",
      "Junto con ello, recalcó que va “en la misma línea del primer proyecto, es necesario hoy ante la falta de recursos de parte del Estado, volver a inyectar recursos a cada familia con sus propios recursos”, apuntando que el primer retiro permitió que “muchas familias con su dinero, con su trabajo, con su dignidad, han podido salir adelante y además han dinamizado la economía”.\n",
      "La propuesta de este retiro de fondos de pensiones mantiene la universalidad, su carácter voluntario, exento de impuestos e inembargabilidad, salvo para los deudores de pensión de alimentos.\n"
     ]
    }
   ],
   "source": [
    "for part_of_body in response.html.xpath(query_extract_text):\n",
    "    print(part_of_body.text)"
   ]
  },
  {
   "cell_type": "code",
   "execution_count": 51,
   "metadata": {},
   "outputs": [],
   "source": [
    "query_extract_date = \"//div[@class='autor']/span\""
   ]
  },
  {
   "cell_type": "markdown",
   "metadata": {},
   "source": [
    "#### Comprobacion de la query date"
   ]
  },
  {
   "cell_type": "code",
   "execution_count": 16,
   "metadata": {},
   "outputs": [
    {
     "data": {
      "text/plain": [
       "'24 de Agosto de 2020'"
      ]
     },
     "execution_count": 16,
     "metadata": {},
     "output_type": "execute_result"
    }
   ],
   "source": [
    "response.html.xpath(query_extract_date)[0].text"
   ]
  },
  {
   "cell_type": "markdown",
   "metadata": {},
   "source": [
    "# !!Importante, la query fecha funciona, pero no tiene estructura adecuada\n",
    "## La estructura para las fechas es año-mes-dia\n",
    "## Para esto existen tres funciones auxiliares"
   ]
  },
  {
   "cell_type": "code",
   "execution_count": 39,
   "metadata": {},
   "outputs": [
    {
     "name": "stdout",
     "output_type": "stream",
     "text": [
      "\n",
      "    año-mes-dia\n",
      "    2018-04-28\n",
      "    \n"
     ]
    }
   ],
   "source": [
    "print_date_structure()"
   ]
  },
  {
   "cell_type": "code",
   "execution_count": 21,
   "metadata": {},
   "outputs": [
    {
     "name": "stdout",
     "output_type": "stream",
     "text": [
      "2012 08  21\n"
     ]
    }
   ],
   "source": [
    "# Elimina cualquier tipo de puntuacion\n",
    "print(clean_date_string_from_punctution(\"2012, 08 !#$%&/()=- 21\"))"
   ]
  },
  {
   "cell_type": "code",
   "execution_count": 18,
   "metadata": {},
   "outputs": [
    {
     "name": "stdout",
     "output_type": "stream",
     "text": [
      "01 de 1995 \n",
      "2019 , 02 , 11\n",
      "2019 , 09 , 11\n"
     ]
    }
   ],
   "source": [
    "# Pasa cualquier mes a su numero en el calendario, sirve con abreviaciones de 3 letras, y no importa si tiene \n",
    "# mayusculas o minusculas\n",
    "print(replace_month_name_to_number(\"enero de 1995 \"))\n",
    "print(replace_month_name_to_number(\"2019 , FEBRERO , 11\"))\n",
    "print(replace_month_name_to_number(\"2019 , Sep , 11\"))\n"
   ]
  },
  {
   "cell_type": "code",
   "execution_count": 23,
   "metadata": {},
   "outputs": [
    {
     "name": "stdout",
     "output_type": "stream",
     "text": [
      "['2019', '09', '11']\n"
     ]
    }
   ],
   "source": [
    "# Entrega una lista de numeros a partir del string donde esta la fecha\n",
    "print(get_numbers_from_date_string(\"2019 , 09 , 11\"))"
   ]
  },
  {
   "cell_type": "code",
   "execution_count": 24,
   "metadata": {},
   "outputs": [
    {
     "name": "stdout",
     "output_type": "stream",
     "text": [
      "\n",
      "    def format_date(date_string):\n",
      "        ...\n",
      "        return real_date_format\n",
      "    \n"
     ]
    }
   ],
   "source": [
    "## Mediante algunas de estas funciones y codigo extra, se tiene que crear la funcion format_date\n",
    "print_format_date_structure()"
   ]
  },
  {
   "cell_type": "code",
   "execution_count": 40,
   "metadata": {},
   "outputs": [],
   "source": [
    "def format_date(date_string):\n",
    "    date_with_month = replace_month_name_to_number(date_string)\n",
    "    date_only_numbers = get_numbers_from_date_string(date_with_month)\n",
    "    \n",
    "    # En este caso, se invierte el sentido de una lista [::-1], para que tenga el formato adecuado\n",
    "    year_month_day_format = date_only_numbers[::-1]\n",
    "    real_date_format = \"-\".join(year_month_day_format)\n",
    "    return real_date_format"
   ]
  },
  {
   "cell_type": "markdown",
   "metadata": {},
   "source": [
    "### Probar la funcion format_date para revisar si funciona"
   ]
  },
  {
   "cell_type": "code",
   "execution_count": 42,
   "metadata": {},
   "outputs": [
    {
     "data": {
      "text/plain": [
       "'2020-08-24'"
      ]
     },
     "execution_count": 42,
     "metadata": {},
     "output_type": "execute_result"
    }
   ],
   "source": [
    "format_date(response.html.xpath(query_extract_date)[0].text)"
   ]
  },
  {
   "cell_type": "code",
   "execution_count": null,
   "metadata": {},
   "outputs": [],
   "source": []
  },
  {
   "cell_type": "markdown",
   "metadata": {},
   "source": [
    "# Querys finales"
   ]
  },
  {
   "cell_type": "markdown",
   "metadata": {},
   "source": [
    "### Crawler"
   ]
  },
  {
   "cell_type": "code",
   "execution_count": 49,
   "metadata": {},
   "outputs": [],
   "source": [
    "query_extract_all_href = \"//section[@class='listado']//h1/a/@href\"\n"
   ]
  },
  {
   "cell_type": "markdown",
   "metadata": {},
   "source": [
    "### Scraper"
   ]
  },
  {
   "cell_type": "code",
   "execution_count": 50,
   "metadata": {},
   "outputs": [],
   "source": [
    "query_extract_title = '//h1[@class=\"amp-wp-title\"]'\n",
    "query_extract_text = '//div[@class=\"the-content\"]//p'\n",
    "query_extract_date = \"//div[@class='autor']/span\""
   ]
  },
  {
   "cell_type": "code",
   "execution_count": 52,
   "metadata": {},
   "outputs": [],
   "source": [
    "def format_date(date_string):\n",
    "    date_with_month = replace_month_name_to_number(date_string)\n",
    "    date_only_numbers = get_numbers_from_date_string(date_with_month)\n",
    "    \n",
    "    # En este caso, se invierte el sentido de una lista [::-1], para que tenga el formato adecuado\n",
    "    year_month_day_format = date_only_numbers[::-1]\n",
    "    real_date_format = \"-\".join(year_month_day_format)\n",
    "    return real_date_format"
   ]
  },
  {
   "cell_type": "code",
   "execution_count": null,
   "metadata": {},
   "outputs": [],
   "source": []
  }
 ],
 "metadata": {
  "kernelspec": {
   "display_name": "Python [conda env:CaleucheEnv]",
   "language": "python",
   "name": "conda-env-CaleucheEnv-py"
  },
  "language_info": {
   "codemirror_mode": {
    "name": "ipython",
    "version": 3
   },
   "file_extension": ".py",
   "mimetype": "text/x-python",
   "name": "python",
   "nbconvert_exporter": "python",
   "pygments_lexer": "ipython3",
   "version": "3.8.2"
  }
 },
 "nbformat": 4,
 "nbformat_minor": 4
}
