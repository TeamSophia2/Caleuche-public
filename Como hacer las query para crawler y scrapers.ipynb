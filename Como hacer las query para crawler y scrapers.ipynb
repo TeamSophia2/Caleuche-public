{
 "cells": [
  {
   "cell_type": "code",
   "execution_count": 12,
   "metadata": {},
   "outputs": [],
   "source": [
    "from Utils_sandbox import *\n",
    "import json\n",
    "from requests_html import HTML\n"
   ]
  },
  {
   "cell_type": "code",
   "execution_count": 13,
   "metadata": {},
   "outputs": [],
   "source": [
    "set_local_time(\"english\")"
   ]
  },
  {
   "cell_type": "code",
   "execution_count": 2,
   "metadata": {},
   "outputs": [
    {
     "name": "stdout",
     "output_type": "stream",
     "text": [
      "import calendar\r\n",
      "import locale \r\n",
      "import random\r\n",
      "import string\r\n",
      "import w3lib.html\r\n",
      "\r\n",
      "from requests_html import HTMLSession\r\n",
      "\r\n",
      "\r\n",
      "USER_AGENT_LIST = [\r\n",
      "    \"Mozilla/5.0 (Windows NT 6.1; WOW64) AppleWebKit/537.1 (KHTML, like Gecko) Chrome/22.0.1207.1 Safari/537.1\",\r\n",
      "    \"Mozilla/5.0 (X11; CrOS i686 2268.111.0) AppleWebKit/536.11 (KHTML, like Gecko) Chrome/20.0.1132.57 Safari/536.11\",\r\n",
      "    \"Mozilla/5.0 (Windows NT 6.1; WOW64) AppleWebKit/536.6 (KHTML, like Gecko) Chrome/20.0.1092.0 Safari/536.6\",\r\n",
      "    \"Mozilla/5.0 (Windows NT 6.2) AppleWebKit/536.6 (KHTML, like Gecko) Chrome/20.0.1090.0 Safari/536.6\",\r\n",
      "    \"Mozilla/5.0 (Windows NT 6.2; WOW64) AppleWebKit/537.1 (KHTML, like Gecko) Chrome/19.77.34.5 Safari/537.1\",\r\n",
      "    \"Mozilla/5.0 (X11; Linux x86_64) AppleWebKit/536.5 (KHTML, like Gecko) Chrome/19.0.1084.9 Safari/536.5\",\r\n",
      "    \"Mozilla/5.0 (Windows NT 6.0) AppleWebKit/536.5 (KHTML, like Gecko) Chrome/19.0.1084.36 Safari/536.5\",\r\n",
      "    \"Mozilla/5.0 (Windows NT 6.1; WOW64) AppleWebKit/536.3 (KHTML, like Gecko) Chrome/19.0.1063.0 Safari/536.3\",\r\n",
      "    \"Mozilla/5.0 (Windows NT 5.1) AppleWebKit/536.3 (KHTML, like Gecko) Chrome/19.0.1063.0 Safari/536.3\",\r\n",
      "    \"Mozilla/5.0 (Macintosh; Intel Mac OS X 10_8_0) AppleWebKit/536.3 (KHTML, like Gecko) Chrome/19.0.1063.0 Safari/536.3\",\r\n",
      "    \"Mozilla/5.0 (Windows NT 6.2) AppleWebKit/536.3 (KHTML, like Gecko) Chrome/19.0.1062.0 Safari/536.3\",\r\n",
      "    \"Mozilla/5.0 (Windows NT 6.1; WOW64) AppleWebKit/536.3 (KHTML, like Gecko) Chrome/19.0.1062.0 Safari/536.3\",\r\n",
      "    \"Mozilla/5.0 (Windows NT 6.2) AppleWebKit/536.3 (KHTML, like Gecko) Chrome/19.0.1061.1 Safari/536.3\",\r\n",
      "    \"Mozilla/5.0 (Windows NT 6.1; WOW64) AppleWebKit/536.3 (KHTML, like Gecko) Chrome/19.0.1061.1 Safari/536.3\",\r\n",
      "    \"Mozilla/5.0 (Windows NT 6.1) AppleWebKit/536.3 (KHTML, like Gecko) Chrome/19.0.1061.1 Safari/536.3\",\r\n",
      "    \"Mozilla/5.0 (Windows NT 6.2) AppleWebKit/536.3 (KHTML, like Gecko) Chrome/19.0.1061.0 Safari/536.3\",\r\n",
      "    \"Mozilla/5.0 (X11; Linux x86_64) AppleWebKit/535.24 (KHTML, like Gecko) Chrome/19.0.1055.1 Safari/535.24\",\r\n",
      "    \"Mozilla/5.0 (Windows NT 6.2; WOW64) AppleWebKit/535.24 (KHTML, like Gecko) Chrome/19.0.1055.1 Safari/535.24\"\r\n",
      "]\r\n",
      "\r\n",
      "def set_local_time(language):\r\n",
      "    if(language==\"spanish\"):\r\n",
      "        locale.setlocale(locale.LC_TIME, 'es_ES.UTF-8')\r\n",
      "    if(language==\"french\"):\r\n",
      "        locale.setlocale(locale.LC_TIME, 'fr_FR.UTF-8')\r\n",
      "    if(language==\"english\"):\r\n",
      "        locale.setlocale(locale.LC_TIME, 'en_US.UTF-8')\r\n",
      "\r\n",
      "\r\n",
      "def start_request(url,header= {'user-agent':random.choice(USER_AGENT_LIST) },verify=True):\r\n",
      "    session = HTMLSession()\r\n",
      "    print(url)\r\n",
      "    response = session.get(url,headers=header,verify=verify)\r\n",
      "    return response  \r\n",
      "\r\n",
      "\r\n",
      "\r\n",
      "def create_header_from_string(url_header_string):\r\n",
      "    headers = dict()\r\n",
      "    splitted_string = url_header_string.split(\"-H\")\r\n",
      "    url = splitted_string[0]\r\n",
      "    del splitted_string[0]\r\n",
      "    for header_name_and_header_content in splitted_string:\r\n",
      "        #removed newline\r\n",
      "        header_name_and_header_content = header_name_and_header_content.strip()\r\n",
      "        #removed quotes\r\n",
      "        header_name_and_header_content = header_name_and_header_content.strip(\"'\")\r\n",
      "        splitted_header = header_name_and_header_content.split(\":\",1)\r\n",
      "\r\n",
      "        header_name =splitted_header[0].strip(\" \")\r\n",
      "        header_content = splitted_header[1].strip(\" \")\r\n",
      "        headers[header_name] = header_content\r\n",
      "    return headers\r\n",
      "\r\n",
      "def clean_date_string_from_punctution(date_string):\r\n",
      "    translator=str.maketrans('','',string.punctuation)\r\n",
      "    date_string=date_string.translate(translator)\r\n",
      "    return date_string\r\n",
      "\r\n",
      "def replace_month_name_to_number(date_string):\r\n",
      "    lower_string = date_string.lower()\r\n",
      "    for month_id in range(1, 13):\r\n",
      "        if(lower_string.find(calendar.month_name[month_id].lower())!=-1):\r\n",
      "            return (lower_string.replace(calendar.month_name[month_id].lower(),\"0\"+str(month_id)))\r\n",
      "        if(lower_string.find(calendar.month_abbr[month_id].lower())!=-1):\r\n",
      "            return (lower_string.replace(calendar.month_abbr[month_id].lower(),\"0\"+str(month_id)))\r\n",
      "\r\n",
      "\r\n",
      "def get_numbers_from_date_string(date_string):\r\n",
      "    splitted_date = [string for string in date_string.split() if string.isdigit()]\r\n",
      "    return splitted_date\r\n",
      "\r\n",
      "def print_format_date_structure():\r\n",
      "    print('''\r\n",
      "    def format_date(date_string):\r\n",
      "        ...\r\n",
      "        return real_date_format\r\n",
      "    ''')\r\n",
      "def print_date_structure():\r\n",
      "    print('''\r\n",
      "    año-mes-dia\r\n",
      "    2018-04-28\r\n",
      "    '''\r\n",
      "    )\r\n",
      "\r\n",
      "def print_scrap_structure():\r\n",
      "    print('''\r\n",
      "    query_extract_title = '//tag[@class=\"???\"]'\r\n",
      "    query_extract_text = \"//tag[@class='???']//p\"\r\n",
      "    query_extract_date = \"//tag[@class='???']\"\r\n",
      "    ''')\r\n",
      "\r\n",
      "def print_crawl_structure():\r\n",
      "    print('''\r\n",
      "    query_extract_all_href = \"//tag[@class='???']//h1/a/@href\"\r\n",
      "    ''')\r\n",
      "\r\n",
      "def clean_text(html_text):\r\n",
      "    text_without_tags = w3lib.html.remove_tags(html_text)\r\n",
      "    text_without_escape_chars = w3lib.html.replace_escape_chars(text_without_tags)\r\n",
      "    text_without_whitespace = text_without_escape_chars.strip()\r\n",
      "    text_without_unicode = text_without_whitespace.encode('ascii','ignore').decode(\"utf-8\")\r\n",
      "    return text_without_unicode\r\n"
     ]
    }
   ],
   "source": [
    "!cat Utils_sandbox.py"
   ]
  },
  {
   "cell_type": "code",
   "execution_count": null,
   "metadata": {},
   "outputs": [],
   "source": [
    "response.html.xpath(\"//div[@class='hidden-xs']//h2\")[0].text"
   ]
  },
  {
   "cell_type": "code",
   "execution_count": null,
   "metadata": {},
   "outputs": [],
   "source": [
    "response.html.xpath(\"//div[@class='paywall']//p\")[0].text"
   ]
  },
  {
   "cell_type": "code",
   "execution_count": null,
   "metadata": {},
   "outputs": [],
   "source": []
  },
  {
   "cell_type": "code",
   "execution_count": null,
   "metadata": {},
   "outputs": [],
   "source": [
    "url_v = 'https://www.eluniversal.com.mx/video/nacion/fgr-apelara-decision-de-no-vincular-proceso-juan-collado'\n",
    "url_n = 'https://www.eluniversal.com.mx/nacion/politica/abandonan-la-conago-10-gobernadores'\n",
    "url_op = 'https://www.eluniversal.com.mx/opinion/jaime-valls-esponda/rodolfo-tuiran-un-ano-de-su-partida'\n",
    "url_test ='https://www.eluniversal.com.mx/opinion/ricardo-monreal-avila/la-tercera-vacuna-universal'\n",
    "response = start_request(url_test)"
   ]
  },
  {
   "cell_type": "code",
   "execution_count": null,
   "metadata": {},
   "outputs": [],
   "source": []
  },
  {
   "cell_type": "code",
   "execution_count": null,
   "metadata": {},
   "outputs": [],
   "source": [
    "query_fecha_ = \"//a[@class='ce12-DatosArticulo_ElementoFecha']\"\n",
    "query_general = \"//span[@class='ce12-DatosArticulo_ElementoFecha']\""
   ]
  },
  {
   "cell_type": "code",
   "execution_count": null,
   "metadata": {},
   "outputs": [],
   "source": [
    "for a in response.html.xpath(\"//div[@class='ce12-DatosArticulo']//p\"):\n",
    "    print(a.text)"
   ]
  },
  {
   "cell_type": "code",
   "execution_count": null,
   "metadata": {},
   "outputs": [],
   "source": [
    "for a in response.html.xpath(\"//div[@class='grid-nota2']//p\"):\n",
    "    print(a.text)"
   ]
  },
  {
   "cell_type": "code",
   "execution_count": null,
   "metadata": {},
   "outputs": [],
   "source": [
    "d='26/AGO/2020'\n",
    "\n",
    "d='26/AGO/2020'\n",
    "\n",
    "set_local_time(\"spanish\")\n",
    "day_month_year_format= replace_month_name_to_number(d)\n",
    "temp_date = datetime.datetime.strptime(day_month_year_format, '%d/%m/%Y')\n",
    "year_month_day_format = datetime.date.strftime(temp_date, \"%Y-%m-%d\")\n",
    "print(year_month_day_format)"
   ]
  },
  {
   "cell_type": "code",
   "execution_count": null,
   "metadata": {},
   "outputs": [],
   "source": [
    "\n",
    "import datetime"
   ]
  },
  {
   "cell_type": "code",
   "execution_count": null,
   "metadata": {},
   "outputs": [],
   "source": [
    "response.html.xpath(\"//h2[@class='h1']\")[0].text"
   ]
  },
  {
   "cell_type": "code",
   "execution_count": null,
   "metadata": {},
   "outputs": [],
   "source": []
  },
  {
   "cell_type": "markdown",
   "metadata": {},
   "source": [
    "# Creacion de query xpath para un crawler"
   ]
  },
  {
   "cell_type": "markdown",
   "metadata": {},
   "source": [
    "## Extraccion de la respuesta de un medio especifico"
   ]
  },
  {
   "cell_type": "code",
   "execution_count": null,
   "metadata": {},
   "outputs": [],
   "source": [
    "response = start_request(\"https://www.eldinamo.cl/noticias/nacional/\")"
   ]
  },
  {
   "cell_type": "code",
   "execution_count": null,
   "metadata": {},
   "outputs": [],
   "source": [
    "#importante 200 code\n",
    "\n",
    "response.status_code"
   ]
  },
  {
   "cell_type": "markdown",
   "metadata": {},
   "source": [
    "## Todos los elementos de una pagina"
   ]
  },
  {
   "cell_type": "code",
   "execution_count": null,
   "metadata": {},
   "outputs": [],
   "source": [
    "#Markup, HTML,XML\n",
    "\n",
    "response.html.xpath(\"//*\")\n"
   ]
  },
  {
   "cell_type": "markdown",
   "metadata": {},
   "source": [
    "## Elemento especifico"
   ]
  },
  {
   "cell_type": "code",
   "execution_count": null,
   "metadata": {},
   "outputs": [],
   "source": [
    "response.html.xpath(\"//section[@class='destacado-grande']\")[0].text\n",
    "\n"
   ]
  },
  {
   "cell_type": "markdown",
   "metadata": {},
   "source": [
    "### Texto de un elemento especifico"
   ]
  },
  {
   "cell_type": "code",
   "execution_count": null,
   "metadata": {},
   "outputs": [],
   "source": [
    "# Al momento de hacer xpath, siempre se devuelve una lista, por lo que tenemos que tomar el primer elemento\n",
    "response.html.xpath(\"//div[@class='titular-categoria']\")[0].text"
   ]
  },
  {
   "cell_type": "markdown",
   "metadata": {},
   "source": [
    "## Revision de la estructura de crawling"
   ]
  },
  {
   "cell_type": "markdown",
   "metadata": {},
   "source": [
    "### Se espera que la query retorne una lista de enlaces"
   ]
  },
  {
   "cell_type": "code",
   "execution_count": null,
   "metadata": {},
   "outputs": [],
   "source": [
    "\n",
    "print_crawl_structure()"
   ]
  },
  {
   "cell_type": "markdown",
   "metadata": {},
   "source": [
    "### La seccion \"//h1/a/\" es una recomendacion en como usalmente estan puestos los links, pero no siempre funciona de esa manera"
   ]
  },
  {
   "cell_type": "markdown",
   "metadata": {},
   "source": [
    "### La seccion @href sirve para obtener el campo o atributo relacionado a un link"
   ]
  },
  {
   "cell_type": "code",
   "execution_count": null,
   "metadata": {},
   "outputs": [],
   "source": [
    "query_extract_all_href = \"//section[@class='listado']//h1/a/@href\"\n"
   ]
  },
  {
   "cell_type": "markdown",
   "metadata": {},
   "source": [
    "### Para probar si la query esta funcionando, deberá devolver una lista de links al momento de ejecutarse"
   ]
  },
  {
   "cell_type": "code",
   "execution_count": null,
   "metadata": {},
   "outputs": [],
   "source": [
    "response.html.xpath(query_extract_all_href)"
   ]
  },
  {
   "cell_type": "code",
   "execution_count": null,
   "metadata": {},
   "outputs": [],
   "source": [
    "response.html.absolute_links"
   ]
  },
  {
   "cell_type": "markdown",
   "metadata": {},
   "source": [
    "# Creacion de query xpath para un scraper"
   ]
  },
  {
   "cell_type": "markdown",
   "metadata": {},
   "source": [
    "## Revision de la estructura de scraping"
   ]
  },
  {
   "cell_type": "code",
   "execution_count": null,
   "metadata": {},
   "outputs": [],
   "source": [
    "print_scrap_structure()"
   ]
  },
  {
   "cell_type": "markdown",
   "metadata": {},
   "source": [
    "### Se espera 3 querys en el caso de scraper\n",
    "#### titulo , cuerpo de la noticia y fecha"
   ]
  },
  {
   "cell_type": "markdown",
   "metadata": {},
   "source": [
    "### En este caso, revisamos una noticia en especifico"
   ]
  },
  {
   "cell_type": "code",
   "execution_count": null,
   "metadata": {},
   "outputs": [],
   "source": [
    "response = start_request(\"https://www.eldinamo.cl/nacional/2020/08/24/diputados-presentan-proyecto-para-un-segundo-retiro-de-fondos-de-afp/\")"
   ]
  },
  {
   "cell_type": "code",
   "execution_count": null,
   "metadata": {},
   "outputs": [],
   "source": [
    "response.status_code"
   ]
  },
  {
   "cell_type": "code",
   "execution_count": null,
   "metadata": {},
   "outputs": [],
   "source": [
    "query_extract_title = '//h1[@class=\"amp-wp-title\"]'"
   ]
  },
  {
   "cell_type": "markdown",
   "metadata": {},
   "source": [
    "#### Comprobacion de la query title"
   ]
  },
  {
   "cell_type": "code",
   "execution_count": null,
   "metadata": {},
   "outputs": [],
   "source": [
    "response.html.xpath(query_extract_title)[0].text"
   ]
  },
  {
   "cell_type": "code",
   "execution_count": null,
   "metadata": {},
   "outputs": [],
   "source": [
    "query_extract_text = '//div[@class=\"the-content\"]//p'"
   ]
  },
  {
   "cell_type": "markdown",
   "metadata": {},
   "source": [
    "#### Comprobacion de la query text"
   ]
  },
  {
   "cell_type": "code",
   "execution_count": null,
   "metadata": {},
   "outputs": [],
   "source": [
    "for part_of_body in response.html.xpath(query_extract_text):\n",
    "    print(part_of_body.text)"
   ]
  },
  {
   "cell_type": "code",
   "execution_count": null,
   "metadata": {},
   "outputs": [],
   "source": [
    "query_extract_date = \"//div[@class='autor']/span\""
   ]
  },
  {
   "cell_type": "markdown",
   "metadata": {},
   "source": [
    "#### Comprobacion de la query date"
   ]
  },
  {
   "cell_type": "code",
   "execution_count": null,
   "metadata": {},
   "outputs": [],
   "source": [
    "response.html.xpath(query_extract_date)[0].text"
   ]
  },
  {
   "cell_type": "markdown",
   "metadata": {},
   "source": [
    "# !!Importante, la query fecha funciona, pero no tiene estructura adecuada\n",
    "## La estructura para las fechas es año-mes-dia\n",
    "## Para esto existen tres funciones auxiliares"
   ]
  },
  {
   "cell_type": "code",
   "execution_count": null,
   "metadata": {},
   "outputs": [],
   "source": [
    "print_date_structure()"
   ]
  },
  {
   "cell_type": "code",
   "execution_count": null,
   "metadata": {},
   "outputs": [],
   "source": [
    "# Elimina cualquier tipo de puntuacion\n",
    "print(clean_date_string_from_punctution(\"2012, 08 !#$%&/()=- 21\"))"
   ]
  },
  {
   "cell_type": "code",
   "execution_count": null,
   "metadata": {},
   "outputs": [],
   "source": [
    "# Pasa cualquier mes a su numero en el calendario, sirve con abreviaciones de 3 letras, y no importa si tiene \n",
    "# mayusculas o minusculas\n",
    "print(replace_month_name_to_number(\"enero de 1995 \"))\n",
    "print(replace_month_name_to_number(\"2019 , FeBReRO , 11\"))\n",
    "print(replace_month_name_to_number(\"2019 , Sep , 11\"))\n"
   ]
  },
  {
   "cell_type": "code",
   "execution_count": null,
   "metadata": {},
   "outputs": [],
   "source": [
    "# Entrega una lista de numeros a partir del string donde esta la fecha\n",
    "print(get_numbers_from_date_string(\"2019 , 09 , 11\"))"
   ]
  },
  {
   "cell_type": "code",
   "execution_count": null,
   "metadata": {},
   "outputs": [],
   "source": [
    "## Mediante algunas de estas funciones y codigo extra, se tiene que crear la funcion format_date\n",
    "print_format_date_structure()"
   ]
  },
  {
   "cell_type": "code",
   "execution_count": null,
   "metadata": {},
   "outputs": [],
   "source": [
    "def format_date(date_string):\n",
    "    date_with_month = replace_month_name_to_number(date_string)\n",
    "    date_only_numbers = get_numbers_from_date_string(date_with_month)\n",
    "    \n",
    "    # En este caso, se invierte el sentido de una lista [::-1], para que tenga el formato adecuado\n",
    "    year_month_day_format = date_only_numbers[::-1]\n",
    "    real_date_format = \"-\".join(year_month_day_format)\n",
    "    return real_date_format"
   ]
  },
  {
   "cell_type": "markdown",
   "metadata": {},
   "source": [
    "### Probar la funcion format_date para revisar si funciona"
   ]
  },
  {
   "cell_type": "code",
   "execution_count": null,
   "metadata": {},
   "outputs": [],
   "source": [
    "format_date(response.html.xpath(query_extract_date)[0].text)"
   ]
  },
  {
   "cell_type": "code",
   "execution_count": null,
   "metadata": {},
   "outputs": [],
   "source": []
  },
  {
   "cell_type": "markdown",
   "metadata": {},
   "source": [
    "# Querys finales"
   ]
  },
  {
   "cell_type": "markdown",
   "metadata": {},
   "source": [
    "### Crawler"
   ]
  },
  {
   "cell_type": "code",
   "execution_count": null,
   "metadata": {},
   "outputs": [],
   "source": [
    "query_extract_all_href = \"//section[@class='listado']//h1/a/@href\"\n"
   ]
  },
  {
   "cell_type": "markdown",
   "metadata": {},
   "source": [
    "### Scraper"
   ]
  },
  {
   "cell_type": "code",
   "execution_count": null,
   "metadata": {},
   "outputs": [],
   "source": [
    "query_extract_title = '//h1[@class=\"amp-wp-title\"]'\n",
    "query_extract_text = '//div[@class=\"the-content\"]//p'\n",
    "query_extract_date = \"//div[@class='autor']/span\""
   ]
  },
  {
   "cell_type": "code",
   "execution_count": null,
   "metadata": {},
   "outputs": [],
   "source": [
    "def format_date(date_string):\n",
    "    date_with_month = replace_month_name_to_number(date_string)\n",
    "    date_only_numbers = get_numbers_from_date_string(date_with_month)\n",
    "    # En este caso, se invierte el sentido de una lista [::-1], para que tenga el formato adecuado\n",
    "    year_month_day_format = date_only_numbers[::-1]\n",
    "    real_date_format = \"-\".join(year_month_day_format)\n",
    "    return real_date_format"
   ]
  },
  {
   "cell_type": "code",
   "execution_count": null,
   "metadata": {},
   "outputs": [],
   "source": [
    "{\n",
    "    query_extract_title = '//h1[@class=\"amp-wp-title\"]',\n",
    "    query_extract_text = '//div[@class=\"the-content\"]//p',\n",
    "    query_extract_date = \"//div[@class='autor']/span\"\n",
    "}"
   ]
  },
  {
   "cell_type": "code",
   "execution_count": null,
   "metadata": {},
   "outputs": [],
   "source": []
  },
  {
   "cell_type": "markdown",
   "metadata": {},
   "source": [
    "# Casos especiales"
   ]
  },
  {
   "cell_type": "markdown",
   "metadata": {},
   "source": [
    "\n",
    "## Botón 'ver más' (informacion mediante json)\n",
    "\n",
    "#### En este caso la pagina muestra informacion a partir de una api cuando se hace click en el botón"
   ]
  },
  {
   "cell_type": "code",
   "execution_count": 53,
   "metadata": {},
   "outputs": [],
   "source": [
    "medio = 'itv'\n",
    "pagina_usada = 'https://www.itv.com/news/politics'\n",
    "\n",
    "url = 'https://api-news.prd.shows.itv.com/articles/tiles?region=national&category=politics&limit=8&skip=23'"
   ]
  },
  {
   "cell_type": "markdown",
   "metadata": {},
   "source": [
    "#### Para estos casos , es usual necesitar un header"
   ]
  },
  {
   "cell_type": "code",
   "execution_count": 54,
   "metadata": {},
   "outputs": [
    {
     "name": "stdout",
     "output_type": "stream",
     "text": [
      "  -H 'dnt: 1' -H 'user-agent: Mozilla/5.0' -H 'origin: https://www.itv.com' -H 'sec-fetch-site: same-site' -H 'sec-fetch-mode: cors' -H 'referer: https://www.itv.com/news/politics'   \n",
      "{'dnt': '1', 'user-agent': 'Mozilla/5.0', 'origin': 'https://www.itv.com', 'sec-fetch-site': 'same-site', 'sec-fetch-mode': 'cors', 'referer': 'https://www.itv.com/news/politics'}\n"
     ]
    }
   ],
   "source": [
    "header = '''  -H 'dnt: 1' -H 'user-agent: Mozilla/5.0' -H 'origin: https://www.itv.com' -H 'sec-fetch-site: same-site' -H 'sec-fetch-mode: cors' -H 'referer: https://www.itv.com/news/politics'   '''\n",
    "\n",
    "print(header)\n",
    "header=create_header_from_string(header)\n",
    "print(header)"
   ]
  },
  {
   "cell_type": "code",
   "execution_count": 55,
   "metadata": {},
   "outputs": [
    {
     "name": "stdout",
     "output_type": "stream",
     "text": [
      "https://api-news.prd.shows.itv.com/articles/tiles?region=national&category=politics&limit=8&skip=23\n"
     ]
    }
   ],
   "source": [
    "response = start_request(url,header)"
   ]
  },
  {
   "cell_type": "markdown",
   "metadata": {},
   "source": [
    "#### Como la informacion se recibe como un json, se tiene que usar la libreria json"
   ]
  },
  {
   "cell_type": "code",
   "execution_count": 58,
   "metadata": {},
   "outputs": [
    {
     "name": "stdout",
     "output_type": "stream",
     "text": [
      "{\"items\":[{\"title\":\"Number 10 defends pub curfew despite chaotic scenes following 10pm kick-out\",\"link\":\"news/2020-09-28/number-10-defends-pub-curfew-despite-chaotic-scenes-following-10pm-kick-out\",\"summary\":\"Number 10 said the measure struck the ‘right balance’ as experts warned it could be counter\n",
      " \n",
      "{'url': 'news/2020-09-28/number-10-defends-pub-curfew-despite-chaotic-scenes-following-10pm-kick-out', 'title': 'Number 10 defends pub curfew despite chaotic scenes following 10pm kick-out', 'date': '2020-09-28T18:28:00Z'}\n",
      "{'url': 'news/2020-09-28/mp-claudia-webbe-charged-with-harassment-of-woman', 'title': 'MP Claudia Webbe charged with harassment of woman', 'date': '2020-09-28T13:42:00Z'}\n",
      "{'url': 'news/2020-09-28/brexit-talks-enter-another-week-of-high-drama', 'title': \"Brexit: 'Significant gaps' remain as UK and EU head into final round of talks\", 'date': '2020-09-28T13:07:00Z'}\n",
      "{'url': 'news/2020-09-27/ministers-under-pressure-to-review-hard-10pm-hospitality-curfew', 'title': 'Ministers under pressure to review 10pm hospitality curfew', 'date': '2020-09-27T21:32:00Z'}\n",
      "{'url': 'news/2020-09-27/lib-dems-resolve-to-back-uk-rejoining-eu-at-future-date-with-public-approval', 'title': 'Lib Dems resolve to back rejoining EU at ‘future date’ with public approval', 'date': '2020-09-27T20:39:00Z'}\n",
      "{'url': 'news/2020-09-27/ex-mail-editor-paul-dacre-tipped-to-lead-ofcom', 'title': 'Ex-Daily Mail editor Paul Dacre tipped to lead Ofcom', 'date': '2020-09-27T09:18:00Z'}\n",
      "{'url': 'news/2020-09-25/shadow-chancellor-anneliese-dodds-improve-coronavirus-testing-to-rescue-economy-and-save-jobs', 'title': 'Improve Covid testing to rescue economy and save jobs, says shadow chancellor', 'date': '2020-09-25T21:02:00Z'}\n",
      "{'url': 'news/2020-09-25/coronavirus-ex-pm-urges-rishi-sunak-to-reconsider-jobs-support-with-thousands-still-at-risk', 'title': 'Ex-PM urges Sunak to reconsider jobs support with thousands still at risk', 'date': '2020-09-25T18:48:00Z'}\n"
     ]
    }
   ],
   "source": [
    "\n",
    "print(response.html.html[:300])\n",
    "print(\" \")\n",
    "\n",
    "\n",
    "# En este caso, la informacion que queremos esta dentro de 'items'\n",
    "response_as_json = json.loads(response.html.html)\n",
    "for json_data in response_as_json[\"items\"]:\n",
    "    json_to_send= dict()\n",
    "    json_to_send[\"url\"]=json_data[\"link\"]\n",
    "    json_to_send[\"title\"]=json_data[\"title\"]\n",
    "    json_to_send[\"date\"]=json_data[\"displayDate\"]\n",
    "    print(json_to_send)"
   ]
  },
  {
   "cell_type": "code",
   "execution_count": null,
   "metadata": {},
   "outputs": [],
   "source": []
  },
  {
   "cell_type": "code",
   "execution_count": null,
   "metadata": {},
   "outputs": [],
   "source": []
  },
  {
   "cell_type": "markdown",
   "metadata": {},
   "source": [
    "\n",
    "## Botón 'ver más' (informacion mediante html)\n",
    "\n",
    "#### Similar al caso anterior, se necesita un header y se obtiene informacion mediante API"
   ]
  },
  {
   "cell_type": "code",
   "execution_count": 15,
   "metadata": {},
   "outputs": [],
   "source": [
    "medio = 'washington post'\n",
    "pagina_usada = 'https://www.washingtonpost.com/politics/?tid=nb_politics&itid=nb_politics'\n",
    "url = 'https://www.washingtonpost.com/pb/api/v2/render/feature/section/story-list?content_origin=prism-query&url=prism://prism.query/site-articles-only,/politics&offset=20&limit=15'"
   ]
  },
  {
   "cell_type": "code",
   "execution_count": 19,
   "metadata": {},
   "outputs": [],
   "source": [
    "header = ''' -H 'authority: www.washingtonpost.com' -H 'x-requested-with: XMLHttpRequest' -H 'user-agent: Mozilla/5.0' -H 'sec-fetch-site: same-origin' -H 'sec-fetch-mode: cors' -H 'referer: https://www.washingtonpost.com/politics/?tid=nb_politics&itid=nb_politics  '''\n",
    "header = create_header_from_string(header)"
   ]
  },
  {
   "cell_type": "code",
   "execution_count": 20,
   "metadata": {},
   "outputs": [
    {
     "data": {
      "text/plain": [
       "{'authority': 'www.washingtonpost.com',\n",
       " 'x-requested-with': 'XMLHttpRequest',\n",
       " 'user-agent': 'Mozilla/5.0',\n",
       " 'sec-fetch-site': 'same-origin',\n",
       " 'sec-fetch-mode': 'cors',\n",
       " 'referer': 'https://www.washingtonpost.com/politics/?tid=nb_politics&itid=nb_politics'}"
      ]
     },
     "execution_count": 20,
     "metadata": {},
     "output_type": "execute_result"
    }
   ],
   "source": [
    "header"
   ]
  },
  {
   "cell_type": "code",
   "execution_count": 18,
   "metadata": {},
   "outputs": [
    {
     "data": {
      "text/plain": [
       "'{\"authority\": \"www.washingtonpost.com\", \"x-requested-with\": \"XMLHttpRequest\", \"user-agent\": \"Mozilla/5.0\", \"sec-fetch-site\": \"same-origin\", \"sec-fetch-mode\": \"cors\", \"referer\": \"https://www.washingtonpost.com/politics/?tid=nb_politics&itid=nb_politics\"}'"
      ]
     },
     "execution_count": 18,
     "metadata": {},
     "output_type": "execute_result"
    }
   ],
   "source": [
    "json.dumps(header)"
   ]
  },
  {
   "cell_type": "code",
   "execution_count": 61,
   "metadata": {},
   "outputs": [
    {
     "name": "stdout",
     "output_type": "stream",
     "text": [
      "https://www.washingtonpost.com/pb/api/v2/render/feature/section/story-list?content_origin=prism-query&url=prism://prism.query/site-articles-only,/politics&offset=20&limit=15\n"
     ]
    }
   ],
   "source": [
    "response = start_request(url,header)"
   ]
  },
  {
   "cell_type": "markdown",
   "metadata": {},
   "source": [
    "#### Sin embargo, se necesita hacer una query para extraer la informacion, y cargar el json como html"
   ]
  },
  {
   "cell_type": "code",
   "execution_count": 62,
   "metadata": {},
   "outputs": [],
   "source": [
    "query_extract_all_href = \"//div[contains(@class,'story-list-story row item')]//div[@class='story-headline']//a/@href\""
   ]
  },
  {
   "cell_type": "code",
   "execution_count": 63,
   "metadata": {},
   "outputs": [
    {
     "name": "stdout",
     "output_type": "stream",
     "text": [
      "{\"rendering\":\"<div class=\\\"moat-trackable pb-f-theme-normal pb-f-dehydrate-false pb-f-async-false pb-2 pb-feature pb-layout-item pb-f-section-story-list\\\" moat-id=\\\"section/story-list\\\" data-chain-name=\\\"no-name\\\" data-feature-name=\\\"no-name\\\" data-feature-id=\\\"section/story-list\\\" data-pb-fingerpri\n",
      " \n",
      "<div class=\"moat-trackable pb-f-theme-normal pb-f-dehydrate-false pb-f-async-false pb-2 pb-feature pb-layout-item pb-f-section-story-list\" moat-id=\"section/story-list\" data-chain-name=\"no-name\" data-feature-name=\"no-name\" data-feature-id=\"section/story-list\" data-pb-fingerprint=\"no-fingerprint\" id=\"\n",
      " \n",
      "{'url': 'https://www.washingtonpost.com/politics/trump-biden-debate-rule-changes/2020/10/01/f755aa86-03f0-11eb-a2db-417cddf4816a_story.html'}\n",
      "{'url': 'https://www.washingtonpost.com/politics/biden-canvas-trump-pandemic/2020/10/01/15775ba8-041a-11eb-8879-7663b816bfa5_story.html'}\n",
      "{'url': 'https://www.washingtonpost.com/politics/2020/10/01/reduction-ballot-drop-off-sites-texas-will-disproportionately-affect-democratic-non-white-areas/'}\n",
      "{'url': 'https://www.washingtonpost.com/politics/2020/10/01/trailer-biden-goes-where-his-party-lost/'}\n",
      "{'url': 'https://www.washingtonpost.com/technology/2020/10/01/facebook-qanon-conspiracies-trump/'}\n",
      "{'url': 'https://www.washingtonpost.com/politics/south-carolina-ballot-supreme-court/2020/10/01/874dd598-040d-11eb-b7ed-141dd88560ea_story.html'}\n",
      "{'url': 'https://www.washingtonpost.com/politics/2020/10/01/kayleigh-mcenanys-first-post-debate-briefing-goes-off-rails/'}\n",
      "{'url': 'https://www.washingtonpost.com/politics/2020/09/30/trump-unleashed-torrent-disinformation-about-voter-fraud-debate/'}\n",
      "{'url': 'https://www.washingtonpost.com/politics/2020/10/01/commission-presidential-debates/'}\n",
      "{'url': 'https://www.washingtonpost.com/politics/2020/10/01/study-shows-trump-is-super-spreader-coronavirus-misinformation/'}\n",
      "{'url': 'https://www.washingtonpost.com/politics/kamala-harris-aka-sorority/2020/10/01/801cf9de-fc47-11ea-9ceb-061d646d9c67_story.html'}\n",
      "{'url': 'https://www.washingtonpost.com/politics/2020/10/01/were-not-seeing-evidence-yet-that-supreme-court-battle-is-shaking-up-fight-senate/'}\n",
      "{'url': 'https://www.washingtonpost.com/nation/2020/10/01/katie-porter-whiteboard-math-pharma/'}\n"
     ]
    }
   ],
   "source": [
    "\n",
    "# Primero se carga la respuesta como json\n",
    "print(response.html.html[:300])\n",
    "print(\" \")\n",
    "respose_as_json= json.loads(response.html.html)\n",
    "\n",
    "# Dentro de esa respuesta, esta el html del cual queremos extraer informacion\n",
    "print(respose_as_json['rendering'][:300])\n",
    "print(\" \")\n",
    "html_as_string = respose_as_json['rendering']\n",
    "\n",
    "# Para cargar el string como html, se necesita usar un objeto HTML de la libreria request_html\n",
    "extracted_html = HTML(html=html_as_string)\n",
    "all_extracted_href = extracted_html.xpath(query_extract_all_href)\n",
    "for href in all_extracted_href:\n",
    "    json_to_send= dict()\n",
    "    json_to_send[\"url\"]=href\n",
    "    print(json_to_send)"
   ]
  },
  {
   "cell_type": "markdown",
   "metadata": {},
   "source": [
    "### Informacion Importante"
   ]
  },
  {
   "cell_type": "markdown",
   "metadata": {},
   "source": [
    "#### Cuando se agrega codigo a la araña tiene que tener el parametro 'self', ya que es una clase"
   ]
  },
  {
   "cell_type": "raw",
   "metadata": {},
   "source": [
    "def replace_month_name_to_number(self,date_string):\n",
    "    lower_string = date_string.lower()\n",
    "    for month_id in range(1, 13):\n",
    "        if(lower_string.find(calendar.month_name[month_id].lower())!=-1):\n",
    "            return (lower_string.replace(calendar.month_name[month_id].lower(),\"0\"+str(month_id)))\n",
    "        if(lower_string.find(calendar.month_abbr[month_id].lower())!=-1):\n",
    "            return (lower_string.replace(calendar.month_abbr[month_id].lower(),\"0\"+str(month_id)))\n",
    "            \n",
    "            \n",
    "def format_date(self,date):\n",
    "    ...\n",
    "    return date"
   ]
  },
  {
   "cell_type": "code",
   "execution_count": null,
   "metadata": {},
   "outputs": [],
   "source": []
  },
  {
   "cell_type": "code",
   "execution_count": null,
   "metadata": {},
   "outputs": [],
   "source": []
  },
  {
   "cell_type": "code",
   "execution_count": null,
   "metadata": {},
   "outputs": [],
   "source": []
  },
  {
   "cell_type": "code",
   "execution_count": null,
   "metadata": {},
   "outputs": [],
   "source": []
  },
  {
   "cell_type": "code",
   "execution_count": null,
   "metadata": {},
   "outputs": [],
   "source": []
  },
  {
   "cell_type": "code",
   "execution_count": 5,
   "metadata": {},
   "outputs": [],
   "source": [
    "class EspanaCadenaserCrawlSpider:\n",
    "    \n",
    "    USER_AGENT_LIST = [\n",
    "        \"Mozilla/5.0 (Windows NT 6.1; WOW64) AppleWebKit/537.1 (KHTML, like Gecko) Chrome/22.0.1207.1 Safari/537.1\",\n",
    "        \"Mozilla/5.0 (X11; CrOS i686 2268.111.0) AppleWebKit/536.11 (KHTML, like Gecko) Chrome/20.0.1132.57 Safari/536.11\",\n",
    "        \"Mozilla/5.0 (Windows NT 6.1; WOW64) AppleWebKit/536.6 (KHTML, like Gecko) Chrome/20.0.1092.0 Safari/536.6\",\n",
    "        \"Mozilla/5.0 (Windows NT 6.2) AppleWebKit/536.6 (KHTML, like Gecko) Chrome/20.0.1090.0 Safari/536.6\",\n",
    "        \"Mozilla/5.0 (Windows NT 6.2; WOW64) AppleWebKit/537.1 (KHTML, like Gecko) Chrome/19.77.34.5 Safari/537.1\",\n",
    "        \"Mozilla/5.0 (X11; Linux x86_64) AppleWebKit/536.5 (KHTML, like Gecko) Chrome/19.0.1084.9 Safari/536.5\",\n",
    "        \"Mozilla/5.0 (Windows NT 6.0) AppleWebKit/536.5 (KHTML, like Gecko) Chrome/19.0.1084.36 Safari/536.5\",\n",
    "        \"Mozilla/5.0 (Windows NT 6.1; WOW64) AppleWebKit/536.3 (KHTML, like Gecko) Chrome/19.0.1063.0 Safari/536.3\",\n",
    "        \"Mozilla/5.0 (Windows NT 5.1) AppleWebKit/536.3 (KHTML, like Gecko) Chrome/19.0.1063.0 Safari/536.3\",\n",
    "        \"Mozilla/5.0 (Macintosh; Intel Mac OS X 10_8_0) AppleWebKit/536.3 (KHTML, like Gecko) Chrome/19.0.1063.0 Safari/536.3\",\n",
    "        \"Mozilla/5.0 (Windows NT 6.2) AppleWebKit/536.3 (KHTML, like Gecko) Chrome/19.0.1062.0 Safari/536.3\",\n",
    "        \"Mozilla/5.0 (Windows NT 6.1; WOW64) AppleWebKit/536.3 (KHTML, like Gecko) Chrome/19.0.1062.0 Safari/536.3\",\n",
    "        \"Mozilla/5.0 (Windows NT 6.2) AppleWebKit/536.3 (KHTML, like Gecko) Chrome/19.0.1061.1 Safari/536.3\",\n",
    "        \"Mozilla/5.0 (Windows NT 6.1; WOW64) AppleWebKit/536.3 (KHTML, like Gecko) Chrome/19.0.1061.1 Safari/536.3\",\n",
    "        \"Mozilla/5.0 (Windows NT 6.1) AppleWebKit/536.3 (KHTML, like Gecko) Chrome/19.0.1061.1 Safari/536.3\",\n",
    "        \"Mozilla/5.0 (Windows NT 6.2) AppleWebKit/536.3 (KHTML, like Gecko) Chrome/19.0.1061.0 Safari/536.3\",\n",
    "        \"Mozilla/5.0 (X11; Linux x86_64) AppleWebKit/535.24 (KHTML, like Gecko) Chrome/19.0.1055.1 Safari/535.24\",\n",
    "        \"Mozilla/5.0 (Windows NT 6.2; WOW64) AppleWebKit/535.24 (KHTML, like Gecko) Chrome/19.0.1055.1 Safari/535.24\"\n",
    "]\n",
    "\n",
    "\n",
    "    \n",
    "    def parse(self,):\n",
    "        return 2\n",
    "        ''' do something with this parser '''"
   ]
  },
  {
   "cell_type": "code",
   "execution_count": 6,
   "metadata": {},
   "outputs": [],
   "source": [
    "genericSpider = EspanaCadenaserCrawlSpider()"
   ]
  },
  {
   "cell_type": "code",
   "execution_count": 7,
   "metadata": {},
   "outputs": [
    {
     "data": {
      "text/plain": [
       "2"
      ]
     },
     "execution_count": 7,
     "metadata": {},
     "output_type": "execute_result"
    }
   ],
   "source": []
  },
  {
   "cell_type": "code",
   "execution_count": 8,
   "metadata": {},
   "outputs": [
    {
     "ename": "AssertionError",
     "evalue": "",
     "output_type": "error",
     "traceback": [
      "\u001b[0;31m---------------------------------------------------------------------------\u001b[0m",
      "\u001b[0;31mAssertionError\u001b[0m                            Traceback (most recent call last)",
      "\u001b[0;32m<ipython-input-8-419485c4a807>\u001b[0m in \u001b[0;36m<module>\u001b[0;34m\u001b[0m\n\u001b[0;32m----> 1\u001b[0;31m \u001b[0;32massert\u001b[0m\u001b[0;34m(\u001b[0m\u001b[0mgenericSpider\u001b[0m\u001b[0;34m.\u001b[0m\u001b[0mparse\u001b[0m\u001b[0;34m(\u001b[0m\u001b[0;34m)\u001b[0m \u001b[0;34m==\u001b[0m \u001b[0;36m1\u001b[0m\u001b[0;34m)\u001b[0m\u001b[0;34m\u001b[0m\u001b[0;34m\u001b[0m\u001b[0m\n\u001b[0m",
      "\u001b[0;31mAssertionError\u001b[0m: "
     ]
    }
   ],
   "source": [
    "assert(genericSpider.parse() == 1)"
   ]
  },
  {
   "cell_type": "code",
   "execution_count": null,
   "metadata": {},
   "outputs": [],
   "source": []
  }
 ],
 "metadata": {
  "kernelspec": {
   "display_name": "Python [conda env:CaleucheEnv]",
   "language": "python",
   "name": "conda-env-CaleucheEnv-py"
  },
  "language_info": {
   "codemirror_mode": {
    "name": "ipython",
    "version": 3
   },
   "file_extension": ".py",
   "mimetype": "text/x-python",
   "name": "python",
   "nbconvert_exporter": "python",
   "pygments_lexer": "ipython3",
   "version": "3.8.2"
  }
 },
 "nbformat": 4,
 "nbformat_minor": 4
}
