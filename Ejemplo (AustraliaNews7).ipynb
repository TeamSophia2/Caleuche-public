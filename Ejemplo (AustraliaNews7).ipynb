{
 "cells": [
  {
   "cell_type": "code",
   "execution_count": 1,
   "metadata": {},
   "outputs": [],
   "source": [
    "SEED_CRAWL = 'https://content.7news.com.au/v4/publication?excludeRegional=false&page=1&page_offset=4&page_size=8&profiles=true&topics=politics%2Ffederal-politics'"
   ]
  },
  {
   "cell_type": "code",
   "execution_count": 2,
   "metadata": {},
   "outputs": [],
   "source": [
    "QUERY_URL = \"\""
   ]
  },
  {
   "cell_type": "code",
   "execution_count": 3,
   "metadata": {},
   "outputs": [],
   "source": [
    "HEADER = {\"authority\": \"content.7news.com.au\", \"dnt\": \"1\", \"caller\": \"sevennews\", \"user-agent\": \"Mozilla/5.0\", \"referer\": \"https://7news.com.au/politics/federal-politics\"}"
   ]
  },
  {
   "cell_type": "code",
   "execution_count": 6,
   "metadata": {},
   "outputs": [],
   "source": [
    "# -*- coding: utf-8 -*-\n",
    "\n",
    "# -*- coding: utf-8 -*-\n",
    "import random\n",
    "import requests\n",
    "from requests_html import HTMLSession\n",
    "from requests_html import HTML\n",
    "import os\n",
    "import json\n",
    "\n",
    "import validators\n",
    "\n",
    "\n",
    "\n",
    "class Australianews7CrawlSpider:\n",
    "    \n",
    "    USER_AGENT_LIST = [\n",
    "        \"Mozilla/5.0 (Windows NT 6.1; WOW64) AppleWebKit/537.1 (KHTML, like Gecko) Chrome/22.0.1207.1 Safari/537.1\",\n",
    "        \"Mozilla/5.0 (X11; CrOS i686 2268.111.0) AppleWebKit/536.11 (KHTML, like Gecko) Chrome/20.0.1132.57 Safari/536.11\",\n",
    "        \"Mozilla/5.0 (Windows NT 6.1; WOW64) AppleWebKit/536.6 (KHTML, like Gecko) Chrome/20.0.1092.0 Safari/536.6\",\n",
    "        \"Mozilla/5.0 (Windows NT 6.2) AppleWebKit/536.6 (KHTML, like Gecko) Chrome/20.0.1090.0 Safari/536.6\",\n",
    "        \"Mozilla/5.0 (Windows NT 6.2; WOW64) AppleWebKit/537.1 (KHTML, like Gecko) Chrome/19.77.34.5 Safari/537.1\",\n",
    "        \"Mozilla/5.0 (X11; Linux x86_64) AppleWebKit/536.5 (KHTML, like Gecko) Chrome/19.0.1084.9 Safari/536.5\",\n",
    "        \"Mozilla/5.0 (Windows NT 6.0) AppleWebKit/536.5 (KHTML, like Gecko) Chrome/19.0.1084.36 Safari/536.5\",\n",
    "        \"Mozilla/5.0 (Windows NT 6.1; WOW64) AppleWebKit/536.3 (KHTML, like Gecko) Chrome/19.0.1063.0 Safari/536.3\",\n",
    "        \"Mozilla/5.0 (Windows NT 5.1) AppleWebKit/536.3 (KHTML, like Gecko) Chrome/19.0.1063.0 Safari/536.3\",\n",
    "        \"Mozilla/5.0 (Macintosh; Intel Mac OS X 10_8_0) AppleWebKit/536.3 (KHTML, like Gecko) Chrome/19.0.1063.0 Safari/536.3\",\n",
    "        \"Mozilla/5.0 (Windows NT 6.2) AppleWebKit/536.3 (KHTML, like Gecko) Chrome/19.0.1062.0 Safari/536.3\",\n",
    "        \"Mozilla/5.0 (Windows NT 6.1; WOW64) AppleWebKit/536.3 (KHTML, like Gecko) Chrome/19.0.1062.0 Safari/536.3\",\n",
    "        \"Mozilla/5.0 (Windows NT 6.2) AppleWebKit/536.3 (KHTML, like Gecko) Chrome/19.0.1061.1 Safari/536.3\",\n",
    "        \"Mozilla/5.0 (Windows NT 6.1; WOW64) AppleWebKit/536.3 (KHTML, like Gecko) Chrome/19.0.1061.1 Safari/536.3\",\n",
    "        \"Mozilla/5.0 (Windows NT 6.1) AppleWebKit/536.3 (KHTML, like Gecko) Chrome/19.0.1061.1 Safari/536.3\",\n",
    "        \"Mozilla/5.0 (Windows NT 6.2) AppleWebKit/536.3 (KHTML, like Gecko) Chrome/19.0.1061.0 Safari/536.3\",\n",
    "        \"Mozilla/5.0 (X11; Linux x86_64) AppleWebKit/535.24 (KHTML, like Gecko) Chrome/19.0.1055.1 Safari/535.24\",\n",
    "        \"Mozilla/5.0 (Windows NT 6.2; WOW64) AppleWebKit/535.24 (KHTML, like Gecko) Chrome/19.0.1055.1 Safari/535.24\"\n",
    "]\n",
    "\n",
    "    \n",
    "    query_extract_all_href=QUERY_URL\n",
    "\n",
    "    all_json_to_send = []\n",
    "    def _init_(self):\n",
    "        pass\n",
    "    \n",
    "    def parse(self, response):\n",
    "        ''' do something with this parser '''\n",
    "        self.all_extracted_href = []\n",
    "        json_data = json.loads(response.html.html)\n",
    "        for url_data in json_data['documents']:\n",
    "            json_to_send = {}\n",
    "            json_to_send[\"url\"] = url_data[\"_self\"]\n",
    "            json_to_send[\"title\"] = url_data[\"heading\"]\n",
    "            json_to_send[\"date\"] = url_data[\"publicationDate\"]\n",
    "            self.all_json_to_send.append(json_to_send)      \n",
    "\n",
    "    def start_request(self,url,header=dict()):\n",
    "        session = HTMLSession()\n",
    "        header['user-agent'] = random.choice(self.USER_AGENT_LIST)\n",
    "        response = session.get(url,headers=header)        \n",
    "        return response\n"
   ]
  },
  {
   "cell_type": "code",
   "execution_count": null,
   "metadata": {},
   "outputs": [],
   "source": []
  },
  {
   "cell_type": "code",
   "execution_count": 9,
   "metadata": {},
   "outputs": [],
   "source": [
    "generic_spider = Australianews7CrawlSpider()"
   ]
  },
  {
   "cell_type": "code",
   "execution_count": 10,
   "metadata": {},
   "outputs": [],
   "source": [
    "response = generic_spider.start_request(SEED_CRAWL,HEADER)"
   ]
  },
  {
   "cell_type": "code",
   "execution_count": 11,
   "metadata": {},
   "outputs": [
    {
     "data": {
      "text/plain": [
       "'{\"page\":1,\"page_size\":8,\"total\":0,\"morePublicationsAvailable\":true,\"documents\":[{\"_self\":\"https://7news.com.au/sunrise/on-the-show/prime-minister-scott-morrison-pictured-on-the-tools-making-diy-chicken-coop-in-his-backyard-c-1363458\",\"id\":\"C-1363458\",\"kind\":\"article\",\"status\":\"live\",\"isLiveContent\":false,\"isPremium\":false,\"requiredAccess\":{\"level\":\"anonymous\"},\"source\":\"Sunrise\",\"publicationDate\":\"2020-10-04T19:11:37.000Z\",\"created\":\"2020-10-04T19:02:12.000Z\",\"lastUpdated\":\"2020-10-04T19:41:40.892Z\",\"expiryDate\":null,\"topics\":{\"primary\":{\"id\":\"sunrise/on-the-show\",\"guid\":\"cke86cxf500ct07lm7izr3gcz\",\"title\":\"On The Show\",\"metadata\":{},\"seoTitle\":\"On The Show\",\"parent\":{\"id\":\"sunrise\",\"guid\":\"cke86a9ww000707lm1v1vfh5r\",\"title\":\"Sunrise\",\"metadata\":{},\"seoTitle\":\"Sunrise\"}},\"secondary\":[{\"id\":\"politics/federal-politics\",\"guid\":\"cke86ea5k00jg07lm2bama4o2\",\"title\":\"Federal Politics\",\"metadata\":{},\"seoTitle\":\"Federal Politics\",\"parent\":{\"id\":\"politics\",\"guid\":\"cke86ac5n000h07lmbvw45om2\",\"title\":\"Politics\",\"metadata\":{},\"seoTitle\":\"Politics\",\"seoDescription\":\"The latest local, national and international politics news. Find out the decisions politicians are making which could affect you.\"}},{\"id\":\"entertainment/viral-weird\",\"guid\":\"cke86edvc00jz07lmgx3c3hv9\",\"title\":\"Viral & Weird\",\"metadata\":{},\"seoTitle\":\"Viral & weird News\",\"seoDescription\":\"The latest quirky news headlines that have Australia and the world talking. Take a break from the norm.\",\"parent\":{\"id\":\"entertainment\",\"guid\":\"cke86atjg002o07lm2bhmdhvg\",\"title\":\"Entertainment\",\"metadata\":{},\"seoTitle\":\"Entertainment\",\"seoDescription\":\"The latest entertainment news featuring movie reviews, TV show coverage, celebrity gossip and the latest from Perth\\'s arts scene.\"}}]},\"heading\":\"Prime Minister Scott Morrison pictured on the tools making DIY chicken coop in his backyard\",\"byline\":{\"text\":\"Hamish Goodall\"},\"headKicker\":\"ScoMo\\'s Chicken Coop\",\"homepageHead\":\"Scott Morrison pictured on the tools for a DIY project\",\"homepageTeaser\":\"The Prime Minister has become a social media sensation after sharing photos of his backyard endeavour.\",\"cardImages\":[],\"mainImages\":[{\"format\":\"image/jpeg\",\"src\":\"https://images.s.7news.com.au/publication/C-1363458/1df10ef59478debad9dad5ead69778aedf197e5a.jpg\",\"reference\":\"https://images.s.7news.com.au/publication/C-1363458/1df10ef59478debad9dad5ead69778aedf197e5a.jpg\",\"width\":960,\"height\":640,\"dimensions\":\"960x640\",\"ratio\":{\"width\":960,\"height\":640},\"credit\":\"Scott Morrison\",\"captionText\":\"The Prime Minister has become a social media sensation\"},{\"format\":\"image/jpeg\",\"src\":\"https://images.s.7news.com.au/publication/C-1363458/1df10ef59478debad9dad5ead69778aedf197e5a-16x9-x0y58w960h540.jpg\",\"reference\":\"https://images.s.7news.com.au/publication/C-1363458/1df10ef59478debad9dad5ead69778aedf197e5a-16x9-x0y58w960h540.jpg\",\"width\":960,\"height\":540,\"dimensions\":\"960x540\",\"ratio\":\"16:9\",\"credit\":\"Scott Morrison\",\"captionText\":\"The Prime Minister has become a social media sensation\"},{\"format\":\"image/jpeg\",\"src\":\"https://images.s.7news.com.au/publication/C-1363458/1df10ef59478debad9dad5ead69778aedf197e5a-4x3-x107y0w853h640.jpg\",\"reference\":\"https://images.s.7news.com.au/publication/C-1363458/1df10ef59478debad9dad5ead69778aedf197e5a-4x3-x107y0w853h640.jpg\",\"width\":853,\"height\":640,\"dimensions\":\"853x640\",\"ratio\":\"4:3\",\"credit\":\"Scott Morrison\",\"captionText\":\"The Prime Minister has become a social media sensation\"},{\"format\":\"image/jpeg\",\"src\":\"https://images.s.7news.com.au/publication/C-1363458/1df10ef59478debad9dad5ead69778aedf197e5a-161x229-x234y0w450h640.jpg\",\"reference\":\"https://images.s.7news.com.au/publication/C-1363458/1df10ef59478debad9dad5ead69778aedf197e5a-161x229-x234y0w450h640.jpg\",\"width\":450,\"height\":640,\"dimensions\":\"450x640\",\"ratio\":\"161:229\",\"credit\":\"Scott Morrison\",\"captionText\":\"The Prime Minister has become a social media sensation\"}],\"mainVideo\":{\"accountId\":\"4761797480001\",\"heading\":\"ScoMo Builds Chicken Coop\",\"kind\":\"video\",\"posterImage\":{\"height\":360,\"width\":640,\"reference\":\"https://images.s.7news.com.au/publication/6197379242001/617d3c963f44c4471a01787446997a1f344191d1.jpg\",\"src\":\"https://images.s.7news.com.au/publication/6197379242001/617d3c963f44c4471a01787446997a1f344191d1.jpg\",\"dimensions\":\"640x360\",\"format\":\"\",\"ratio\":\"16:9\"},\"videoDescription\":\"Scott Morrison has become a social media sensation after sharing photos online building a DIY chicken coop.\",\"videoId\":\"6197379242001\",\"videoType\":\"vod\",\"ingestChannel\":\"vizstory\"},\"socialImage\":null,\"slug\":\"prime-minister-scott-morrison-pictured-on-the-tools-making-diy-chicken-coop-in-his-backyard-c-1363458\",\"socialHead\":\"\",\"socialTeaser\":\"\",\"seoHead\":\"\",\"isSponsored\":false,\"layoutView\":\"default\",\"redirectUrl\":null,\"promotionType\":null,\"canonicalUrl\":null,\"canonicalTitle\":null,\"blogState\":null,\"profiles\":[{\"name\":\"Hamish Goodall\",\"slug\":\"hamish-goodall\",\"email\":\"hgoodall@seven.com.au\",\"position\":\"Digital Producer\",\"biography\":\"Originally from New Zealand, Hamish has worked at a number of the biggest media brands in Australasia. He currently manages all digital and social content for Australia\\'s #1 brekky show, Sunrise.\",\"twitter\":\"hamishnz\"}],\"allowCommenting\":false},{\"_self\":\"https://7news.com.au/business/finance/budget-to-lift-economy-from-pandemic-mire-c-1363312\",\"id\":\"C-1363312\",\"kind\":\"article\",\"status\":\"live\",\"isLiveContent\":false,\"isPremium\":false,\"requiredAccess\":{\"level\":\"anonymous\"},\"source\":\"AAP\",\"publicationDate\":\"2020-10-04T16:36:08.000Z\",\"created\":\"2020-10-04T16:36:08.000Z\",\"lastUpdated\":\"2020-10-04T18:31:57.700Z\",\"expiryDate\":null,\"topics\":{\"primary\":{\"id\":\"business/finance\",\"guid\":\"cke86br96007307lmgvj7gp9a\",\"title\":\"Finance\",\"metadata\":{},\"seoTitle\":\"Finance\",\"parent\":{\"id\":\"business\",\"guid\":\"cke86aal5000a07lm1zxv4n8t\",\"title\":\"Business\",\"metadata\":{},\"seoTitle\":\"Business\",\"seoDescription\":\"The latest business news including market updates, mining news, property development and the start-ups you should know about.\"}},\"secondary\":[{\"id\":\"politics/federal-politics\",\"guid\":\"cke86ea5k00jg07lm2bama4o2\",\"title\":\"Federal Politics\",\"metadata\":{},\"seoTitle\":\"Federal Politics\",\"parent\":{\"id\":\"politics\",\"guid\":\"cke86ac5n000h07lmbvw45om2\",\"title\":\"Politics\",\"metadata\":{},\"seoTitle\":\"Politics\",\"seoDescription\":\"The latest local, national and international politics news. Find out the decisions politicians are making which could affect you.\"}},{\"id\":\"politics\",\"guid\":\"cke86ac5n000h07lmbvw45om2\",\"title\":\"Politics\",\"metadata\":{},\"seoTitle\":\"Politics\",\"seoDescription\":\"The latest local, national and international politics news. Find out the decisions politicians are making which could affect you.\"}]},\"heading\":\"Budget to lift economy from pandemic mire\",\"byline\":{\"text\":\"Colin Brinsden\"},\"headKicker\":\"Federal budget\",\"homepageHead\":\"Australia\\'s debt ceiling to reach the TRILLION dollar mark as deficit balloons\",\"homepageTeaser\":\"Australians will be looking to Tuesday’s federal budget to see what financial aid might be coming.\",\"cardImages\":[],\"mainImages\":[{\"format\":\"image/png\",\"src\":\"https://images.s.7news.com.au/publication/C-1363312/2d6d4be42dd198118262555790d0b4f3b370e595-16x9-x0y0w1920h1080.png\",\"reference\":\"https://images.s.7news.com.au/publication/C-1363312/2d6d4be42dd198118262555790d0b4f3b370e595-16x9-x0y0w1920h1080.png\",\"width\":1920,\"height\":1080,\"dimensions\":\"1920x1080\",\"ratio\":\"16:9\",\"credit\":\"7NEWS Digital\",\"captionText\":\"Treasurer Josh Frydenberg will announce a big deficit in the budget.\"},{\"format\":\"image/png\",\"src\":\"https://images.s.7news.com.au/publication/C-1363312/2d6d4be42dd198118262555790d0b4f3b370e595-4x3-x198y0w1440h1080.png\",\"reference\":\"https://images.s.7news.com.au/publication/C-1363312/2d6d4be42dd198118262555790d0b4f3b370e595-4x3-x198y0w1440h1080.png\",\"width\":1440,\"height\":1080,\"dimensions\":\"1440x1080\",\"ratio\":\"4:3\",\"credit\":\"7NEWS Digital\",\"captionText\":\"Treasurer Josh Frydenberg will announce a big deficit in the budget.\"},{\"format\":\"image/png\",\"src\":\"https://images.s.7news.com.au/publication/C-1363312/2d6d4be42dd198118262555790d0b4f3b370e595-161x229-x213y0w759h1080.png\",\"reference\":\"https://images.s.7news.com.au/publication/C-1363312/2d6d4be42dd198118262555790d0b4f3b370e595-161x229-x213y0w759h1080.png\",\"width\":759,\"height\":1080,\"dimensions\":\"759x1080\",\"ratio\":\"161:229\",\"credit\":\"7NEWS Digital\",\"captionText\":\"Treasurer Josh Frydenberg will announce a big deficit in the budget.\"}],\"mainVideo\":{\"accountId\":\"4761797480001\",\"heading\":\"‘Pregnant’ Woman ‘pushed’ during dramatic arrest\",\"kind\":\"video\",\"posterImage\":{\"height\":360,\"width\":640,\"reference\":\"https://images.s.7news.com.au/publication/6197367307001/6ece62a89e77cc95c197cda6772b59c8232093c2.jpg\",\"src\":\"https://images.s.7news.com.au/publication/6197367307001/6ece62a89e77cc95c197cda6772b59c8232093c2.jpg\",\"dimensions\":\"640x360\",\"format\":\"\",\"ratio\":\"16:9\"},\"videoDescription\":\"Beachgoers turn on police during drmatic arrest.\",\"videoId\":\"6197367307001\",\"videoType\":\"vod\",\"ingestChannel\":\"vizstory\"},\"socialImage\":null,\"slug\":\"budget-to-lift-economy-from-pandemic-mire-c-1363312\",\"socialHead\":\"\",\"socialTeaser\":\"\",\"seoHead\":\"Federal budget 2020 to cause debt ceiling to rise over one trillion dollars\",\"isSponsored\":false,\"layoutView\":\"default\",\"redirectUrl\":null,\"promotionType\":null,\"canonicalUrl\":null,\"canonicalTitle\":null,\"blogState\":null,\"profiles\":[{\"name\":\"Colin Brinsden\",\"slug\":\"colin-brinsden\",\"email\":\"tips@7news.com.au\",\"position\":\"Freelance Reporter\",\"biography\":\"Economics correspondent, federal politics writer, columnist and financial markets journalist reporting on the Australian economy for 25 years.\",\"twitter\":\"brinny56\"}],\"allowCommenting\":false},{\"_self\":\"https://7news.com.au/lifestyle/health-wellbeing/report-calls-for-urgent-aged-care-changes-c-1358746\",\"id\":\"C-1358746\",\"kind\":\"article\",\"status\":\"live\",\"isLiveContent\":false,\"isPremium\":false,\"requiredAccess\":{\"level\":\"anonymous\"},\"source\":\"AAP\",\"publicationDate\":\"2020-10-01T17:35:34.000Z\",\"created\":\"2020-10-01T17:35:34.000Z\",\"lastUpdated\":\"2020-10-01T19:23:14.164Z\",\"expiryDate\":null,\"topics\":{\"primary\":{\"id\":\"lifestyle/health-wellbeing\",\"guid\":\"cke86ehg500kg07lm6dps4euv\",\"title\":\"Health & Wellbeing\",\"metadata\":{},\"seoTitle\":\"Health & Wellbeing\",\"parent\":{\"id\":\"lifestyle\",\"guid\":\"cke86aefd000s07lmhwrg2huw\",\"title\":\"Lifestyle\",\"metadata\":{},\"seoTitle\":\"Lifestyle\",\"seoDescription\":\"The latest lifestyle content featuring recipes, Perth\\'s best food, health and wellbeing advice and tips for your garden and home.\"}},\"secondary\":[{\"id\":\"travel/coronavirus\",\"guid\":\"cke86co9s00bj07lmgfbo562y\",\"title\":\"Coronavirus\",\"metadata\":{},\"seoTitle\":\"Latest Coronavirus cases and news\",\"seoDescription\":\"Coronavirus live updates, latest information and cases from Australia and the World. \",\"parent\":{\"id\":\"travel\",\"guid\":\"cke86a8pa000207lm4i8sdlw2\",\"title\":\"Travel\",\"metadata\":{},\"seoTitle\":\"Travel\"}},{\"id\":\"politics/federal-politics\",\"guid\":\"cke86ea5k00jg07lm2bama4o2\",\"title\":\"Federal Politics\",\"metadata\":{},\"seoTitle\":\"Federal Politics\",\"parent\":{\"id\":\"politics\",\"guid\":\"cke86ac5n000h07lmbvw45om2\",\"title\":\"Politics\",\"metadata\":{},\"seoTitle\":\"Politics\",\"seoDescription\":\"The latest local, national and international politics news. Find out the decisions politicians are making which could affect you.\"}},{\"id\":\"politics\",\"guid\":\"cke86ac5n000h07lmbvw45om2\",\"title\":\"Politics\",\"metadata\":{},\"seoTitle\":\"Politics\",\"seoDescription\":\"The latest local, national and international politics news. Find out the decisions politicians are making which could affect you.\"}]},\"heading\":\"Aged care royal commission report calls for urgent changes\",\"byline\":{\"text\":\"Rebecca Gredley\"},\"headKicker\":\"\\'Who is in charge?\\'\",\"homepageHead\":\"The urgent changes needed to save Australia\\'s aged care sector\",\"homepageTeaser\":\"\\'Some families and loved ones were forced to say goodbye over Facetime - Australians deserve better.\\'\",\"cardImages\":[],\"mainImages\":[{\"format\":\"image/jpeg\",\"src\":\"https://images.s.7news.com.au/publication/C-1358746/c999ce1391ff90ca0889914e7fd357a6b3df1e89.jpg\",\"reference\":\"https://images.s.7news.com.au/publication/C-1358746/c999ce1391ff90ca0889914e7fd357a6b3df1e89.jpg\",\"width\":4322,\"height\":2882,\"dimensions\":\"4322x2882\",\"ratio\":{\"width\":4322,\"height\":2882},\"credit\":\"AAPIMAGE\",\"captionText\":\"A healthcare worker is seen outside of the Glenlyn Aged Care Facility in Melbourne.\",\"byline\":\"JAMES ROSS\"},{\"format\":\"image/jpeg\",\"src\":\"https://images.s.7news.com.au/publication/C-1358746/c999ce1391ff90ca0889914e7fd357a6b3df1e89-16x9-x0y144w4322h2431.jpg\",\"reference\":\"https://images.s.7news.com.au/publication/C-1358746/c999ce1391ff90ca0889914e7fd357a6b3df1e89-16x9-x0y144w4322h2431.jpg\",\"width\":4322,\"height\":2431,\"dimensions\":\"4322x2431\",\"ratio\":\"16:9\",\"credit\":\"AAPIMAGE\",\"captionText\":\"A healthcare worker is seen outside of the Glenlyn Aged Care Facility in Melbourne.\",\"byline\":\"JAMES ROSS\"},{\"format\":\"image/jpeg\",\"src\":\"https://images.s.7news.com.au/publication/C-1358746/c999ce1391ff90ca0889914e7fd357a6b3df1e89-4x3-x340y0w3843h2882.jpg\",\"reference\":\"https://images.s.7news.com.au/publication/C-1358746/c999ce1391ff90ca0889914e7fd357a6b3df1e89-4x3-x340y0w3843h2882.jpg\",\"width\":3843,\"height\":2882,\"dimensions\":\"3843x2882\",\"ratio\":\"4:3\",\"credit\":\"AAPIMAGE\",\"captionText\":\"A healthcare worker is seen outside of the Glenlyn Aged Care Facility in Melbourne.\",\"byline\":\"JAMES ROSS\"},{\"format\":\"image/jpeg\",\"src\":\"https://images.s.7news.com.au/publication/C-1358746/c999ce1391ff90ca0889914e7fd357a6b3df1e89-161x229-x2228y0w2026h2882.jpg\",\"reference\":\"https://images.s.7news.com.au/publication/C-1358746/c999ce1391ff90ca0889914e7fd357a6b3df1e89-161x229-x2228y0w2026h2882.jpg\",\"width\":2026,\"height\":2882,\"dimensions\":\"2026x2882\",\"ratio\":\"161:229\",\"credit\":\"AAPIMAGE\",\"captionText\":\"A healthcare worker is seen outside of the Glenlyn Aged Care Facility in Melbourne.\",\"byline\":\"JAMES ROSS\"}],\"mainVideo\":{\"accountId\":\"4761797480001\",\"heading\":\"Woman missing for two years found floating in open ocean\",\"kind\":\"video\",\"posterImage\":{\"height\":360,\"width\":640,\"reference\":\"https://images.s.7news.com.au/publication/6195855423001/d2fec9c8e177c31cd050e53f0c9dece117e4675c.jpg\",\"src\":\"https://images.s.7news.com.au/publication/6195855423001/d2fec9c8e177c31cd050e53f0c9dece117e4675c.jpg\",\"dimensions\":\"640x360\",\"format\":\"\",\"ratio\":\"16:9\"},\"videoDescription\":\"A woman has been found floating in open ocean after being missing for two years.\",\"videoId\":\"6195855423001\",\"videoType\":\"vod\",\"ingestChannel\":\"vizstory\"},\"socialImage\":null,\"slug\":\"report-calls-for-urgent-aged-care-changes-c-1358746\",\"socialHead\":\"\",\"socialTeaser\":\"\\\\\"Some families and loved ones were forced to say goodbye over Facetime - Australians deserve better.\\\\\"\",\"seoHead\":\"Aged care royal commission report calls for urgent changes\",\"isSponsored\":false,\"layoutView\":\"default\",\"redirectUrl\":null,\"promotionType\":null,\"canonicalUrl\":null,\"canonicalTitle\":null,\"blogState\":null,\"profiles\":[],\"allowCommenting\":false},{\"_self\":\"https://7news.com.au/business/finance/federal-budget-2020-what-we-know-so-far-c-1356087\",\"id\":\"C-1356087\",\"kind\":\"article\",\"status\":\"live\",\"isLiveContent\":false,\"isPremium\":false,\"requiredAccess\":{\"level\":\"anonymous\"},\"source\":\"AAP\",\"publicationDate\":\"2020-09-30T21:08:59.000Z\",\"created\":\"2020-09-30T21:08:59.000Z\",\"lastUpdated\":\"2020-09-30T22:35:56.700Z\",\"expiryDate\":null,\"topics\":{\"primary\":{\"id\":\"business/finance\",\"guid\":\"cke86br96007307lmgvj7gp9a\",\"title\":\"Finance\",\"metadata\":{},\"seoTitle\":\"Finance\",\"parent\":{\"id\":\"business\",\"guid\":\"cke86aal5000a07lm1zxv4n8t\",\"title\":\"Business\",\"metadata\":{},\"seoTitle\":\"Business\",\"seoDescription\":\"The latest business news including market updates, mining news, property development and the start-ups you should know about.\"}},\"secondary\":[{\"id\":\"news/education\",\"guid\":\"cke86b46t004107lm0ra67t97\",\"title\":\"Education\",\"metadata\":{},\"seoTitle\":\"Education\",\"parent\":{\"id\":\"news\",\"guid\":\"cke86a86z000007lmf10g7p14\",\"title\":\"News\",\"metadata\":{},\"seoTitle\":\"News\",\"seoDescription\":\"The latest news at home and across the world featuring news on Western Australia, Australia, the world and other topics you are interested in.\"}},{\"id\":\"politics/federal-politics\",\"guid\":\"cke86ea5k00jg07lm2bama4o2\",\"title\":\"Federal Politics\",\"metadata\":{},\"seoTitle\":\"Federal Politics\",\"parent\":{\"id\":\"politics\",\"guid\":\"cke86ac5n000h07lmbvw45om2\",\"title\":\"Politics\",\"metadata\":{},\"seoTitle\":\"Politics\",\"seoDescription\":\"The latest local, national and international politics news. Find out the decisions politicians are making which could affect you.\"}},{\"id\":\"politics/josh-frydenberg\",\"guid\":\"cke86e8c100j707lm1m2c6krn\",\"title\":\"Josh Frydenberg\",\"metadata\":{},\"seoTitle\":\"Josh Frydenberg\",\"seoDescription\":\"The latest news and headlines on the Treasurer of Australia and Deputy Leader of the Liberal Party.\",\"parent\":{\"id\":\"politics\",\"guid\":\"cke86ac5n000h07lmbvw45om2\",\"title\":\"Politics\",\"metadata\":{},\"seoTitle\":\"Politics\",\"seoDescription\":\"The latest local, national and international politics news. Find out the decisions politicians are making which could affect you.\"}},{\"id\":\"politics\",\"guid\":\"cke86ac5n000h07lmbvw45om2\",\"title\":\"Politics\",\"metadata\":{},\"seoTitle\":\"Politics\",\"seoDescription\":\"The latest local, national and international politics news. Find out the decisions politicians are making which could affect you.\"},{\"id\":\"politics/scott-morrison\",\"guid\":\"cke86dzqq00i007lmf9kn8z76\",\"title\":\"Scott Morrison\",\"metadata\":{},\"seoTitle\":\"Scott Morrison\",\"parent\":{\"id\":\"politics\",\"guid\":\"cke86ac5n000h07lmbvw45om2\",\"title\":\"Politics\",\"metadata\":{},\"seoTitle\":\"Politics\",\"seoDescription\":\"The latest local, national and international politics news. Find out the decisions politicians are making which could affect you.\"}}]},\"heading\":\"Federal Budget 2020 - what we know so far\",\"byline\":{\"text\":\"Paul Osborne\"},\"headKicker\":\"Big spend\",\"homepageHead\":\"Federal Budget 2020 - what we know and who\\'s set to benefit\",\"homepageTeaser\":\"The Morrison government is pitching its 2020 budget as the most significant since World War II and this is what we know about it so far.\",\"cardImages\":[],\"mainImages\":[{\"format\":\"image/png\",\"src\":\"https://images.s.7news.com.au/publication/C-1356087/68f73a2f5bbe646f45c43dd12b8e32c20e746d36-16x9-x0y0w2000h1125.png\",\"reference\":\"https://images.s.7news.com.au/publication/C-1356087/68f73a2f5bbe646f45c43dd12b8e32c20e746d36-16x9-x0y0w2000h1125.png\",\"width\":2000,\"height\":1125,\"dimensions\":\"2000x1125\",\"ratio\":\"16:9\",\"credit\":\"Getty Images\",\"captionText\":\"Federal Budget preview.\"},{\"format\":\"image/png\",\"src\":\"https://images.s.7news.com.au/publication/C-1356087/68f73a2f5bbe646f45c43dd12b8e32c20e746d36-4x3-x250y0w1500h1125.png\",\"reference\":\"https://images.s.7news.com.au/publication/C-1356087/68f73a2f5bbe646f45c43dd12b8e32c20e746d36-4x3-x250y0w1500h1125.png\",\"width\":1500,\"height\":1125,\"dimensions\":\"1500x1125\",\"ratio\":\"4:3\",\"credit\":\"Getty Images\",\"captionText\":\"Federal Budget preview.\"},{\"format\":\"image/png\",\"src\":\"https://images.s.7news.com.au/publication/C-1356087/68f73a2f5bbe646f45c43dd12b8e32c20e746d36-161x229-x605y0w791h1125.png\",\"reference\":\"https://images.s.7news.com.au/publication/C-1356087/68f73a2f5bbe646f45c43dd12b8e32c20e746d36-161x229-x605y0w791h1125.png\",\"width\":791,\"height\":1125,\"dimensions\":\"791x1125\",\"ratio\":\"161:229\",\"credit\":\"Getty Images\",\"captionText\":\"Federal Budget preview.\"}],\"mainVideo\":{\"accountId\":\"4761797480001\",\"heading\":\"7NEWS Update: October 1\",\"kind\":\"video\",\"posterImage\":{\"height\":360,\"width\":640,\"reference\":\"https://images.s.7news.com.au/publication/6196143232001/5d469566b55316705b8cc46c5ef40176a313a75d.jpg\",\"src\":\"https://images.s.7news.com.au/publication/6196143232001/5d469566b55316705b8cc46c5ef40176a313a75d.jpg\",\"dimensions\":\"640x360\",\"format\":\"\",\"ratio\":\"16:9\"},\"videoDescription\":\"7NEWS Update: October 1\",\"videoId\":\"6196143232001\",\"videoType\":\"vod\",\"ingestChannel\":\"vizstory\"},\"socialImage\":null,\"slug\":\"federal-budget-2020-what-we-know-so-far-c-1356087\",\"socialHead\":\"\",\"socialTeaser\":\"\",\"seoHead\":\"Federal Budget 2020: What we know so far on JobKeeper, JobSeeker, pension\",\"isSponsored\":false,\"layoutView\":\"default\",\"redirectUrl\":null,\"promotionType\":null,\"canonicalUrl\":null,\"canonicalTitle\":null,\"blogState\":null,\"profiles\":[],\"allowCommenting\":false},{\"_self\":\"https://7news.com.au/business/finance/port-botany-dispute-industrial-action-talks-enter-second-day-c-1355790\",\"id\":\"C-1355790\",\"kind\":\"article\",\"status\":\"live\",\"isLiveContent\":false,\"isPremium\":false,\"requiredAccess\":{\"level\":\"anonymous\"},\"source\":\"7NEWS\",\"publicationDate\":\"2020-09-30T19:16:34.000Z\",\"created\":\"2020-09-30T17:36:40.000Z\",\"lastUpdated\":\"2020-09-30T19:24:46.848Z\",\"expiryDate\":null,\"topics\":{\"primary\":{\"id\":\"business/finance\",\"guid\":\"cke86br96007307lmgvj7gp9a\",\"title\":\"Finance\",\"metadata\":{},\"seoTitle\":\"Finance\",\"parent\":{\"id\":\"business\",\"guid\":\"cke86aal5000a07lm1zxv4n8t\",\"title\":\"Business\",\"metadata\":{},\"seoTitle\":\"Business\",\"seoDescription\":\"The latest business news including market updates, mining news, property development and the start-ups you should know about.\"}},\"secondary\":[{\"id\":\"business\",\"guid\":\"cke86aal5000a07lm1zxv4n8t\",\"title\":\"Business\",\"metadata\":{},\"seoTitle\":\"Business\",\"seoDescription\":\"The latest business news including market updates, mining news, property development and the start-ups you should know about.\"},{\"id\":\"politics/federal-politics\",\"guid\":\"cke86ea5k00jg07lm2bama4o2\",\"title\":\"Federal Politics\",\"metadata\":{},\"seoTitle\":\"Federal Politics\",\"parent\":{\"id\":\"politics\",\"guid\":\"cke86ac5n000h07lmbvw45om2\",\"title\":\"Politics\",\"metadata\":{},\"seoTitle\":\"Politics\",\"seoDescription\":\"The latest local, national and international politics news. Find out the decisions politicians are making which could affect you.\"}},{\"id\":\"politics/scott-morrison\",\"guid\":\"cke86dzqq00i007lmf9kn8z76\",\"title\":\"Scott Morrison\",\"metadata\":{},\"seoTitle\":\"Scott Morrison\",\"parent\":{\"id\":\"politics\",\"guid\":\"cke86ac5n000h07lmbvw45om2\",\"title\":\"Politics\",\"metadata\":{},\"seoTitle\":\"Politics\",\"seoDescription\":\"The latest local, national and international politics news. Find out the decisions politicians are making which could affect you.\"}},{\"id\":\"news/sydney-news\",\"guid\":\"cke86bx7b007v07lmehgbaqm1\",\"title\":\"Sydney News\",\"metadata\":{},\"seoTitle\":\"Sydney news\",\"seoDescription\":\"The latest breaking news and headlines for Sydney and NSW from Australia\\'s most trusted news source.\",\"parent\":{\"id\":\"news\",\"guid\":\"cke86a86z000007lmf10g7p14\",\"title\":\"News\",\"metadata\":{},\"seoTitle\":\"News\",\"seoDescription\":\"The latest news at home and across the world featuring news on Western Australia, Australia, the world and other topics you are interested in.\"}}]},\"heading\":\"Port Botany industrial action talks enter second day\",\"byline\":{\"text\":\"Tiffanie Turnbull\"},\"headKicker\":\"Industrial action\",\"homepageHead\":\"\\'Serious implications\\': Fears heart surgery patients could be affected by port strike\",\"homepageTeaser\":\"The wharfies’ union and stevedoring company Patrick Terminals will return to the negotiating table, as Australian medical companies plead for an urgent resolution.\",\"cardImages\":[],\"mainImages\":[{\"format\":\"image/jpeg\",\"src\":\"https://images.s.7news.com.au/publication/C-1355790/621d6c90f2414df5b43c6a38fc93aef9135bfcdf-16x9-x0y0w1280h720.jpg\",\"reference\":\"https://images.s.7news.com.au/publication/C-1355790/621d6c90f2414df5b43c6a38fc93aef9135bfcdf-16x9-x0y0w1280h720.jpg\",\"width\":1280,\"height\":720,\"dimensions\":\"1280x720\",\"ratio\":\"16:9\",\"credit\":\"AAP\",\"captionText\":\"A general view of Port Botany\",\"copyrightByline\":\"AAP\"},{\"format\":\"image/jpeg\",\"src\":\"https://images.s.7news.com.au/publication/C-1355790/621d6c90f2414df5b43c6a38fc93aef9135bfcdf-4x3-x160y0w960h720.jpg\",\"reference\":\"https://images.s.7news.com.au/publication/C-1355790/621d6c90f2414df5b43c6a38fc93aef9135bfcdf-4x3-x160y0w960h720.jpg\",\"width\":960,\"height\":720,\"dimensions\":\"960x720\",\"ratio\":\"4:3\",\"credit\":\"AAP\",\"captionText\":\"A general view of Port Botany\",\"copyrightByline\":\"AAP\"},{\"format\":\"image/jpeg\",\"src\":\"https://images.s.7news.com.au/publication/C-1355790/621d6c90f2414df5b43c6a38fc93aef9135bfcdf-161x229-x387y0w506h720.jpg\",\"reference\":\"https://images.s.7news.com.au/publication/C-1355790/621d6c90f2414df5b43c6a38fc93aef9135bfcdf-161x229-x387y0w506h720.jpg\",\"width\":506,\"height\":720,\"dimensions\":\"506x720\",\"ratio\":\"161:229\",\"credit\":\"AAP\",\"captionText\":\"A general view of Port Botany\",\"copyrightByline\":\"AAP\"}],\"mainVideo\":null,\"socialImage\":null,\"slug\":\"port-botany-dispute-industrial-action-talks-enter-second-day-c-1355790\",\"socialHead\":\"\",\"socialTeaser\":\"\",\"seoHead\":\"Port Botany strike against Patrick Terminals could reportedly impact heart surgery medication\",\"isSponsored\":false,\"layoutView\":\"default\",\"redirectUrl\":null,\"promotionType\":null,\"canonicalUrl\":null,\"canonicalTitle\":null,\"blogState\":null,\"profiles\":[],\"allowCommenting\":false},{\"_self\":\"https://7news.com.au/technology/security/dfat-unintentionally-discloses-email-addresses-of-200-australians-stranded-overseas-c-1355271\",\"id\":\"C-1355271\",\"kind\":\"article\",\"status\":\"live\",\"isLiveContent\":false,\"isPremium\":false,\"requiredAccess\":{\"level\":\"anonymous\"},\"source\":\"7NEWS\",\"publicationDate\":\"2020-09-30T12:26:16.000Z\",\"created\":\"2020-09-30T12:25:32.000Z\",\"lastUpdated\":\"2020-09-30T12:26:20.549Z\",\"expiryDate\":null,\"topics\":{\"primary\":{\"id\":\"technology/security\",\"guid\":\"cke86crzi00c207lm9lgehg8x\",\"title\":\"Security\",\"metadata\":{},\"seoTitle\":\"Security\",\"parent\":{\"id\":\"technology\",\"guid\":\"cke86ag7p001007lm9v216yjh\",\"title\":\"Technology\",\"metadata\":{},\"seoTitle\":\"Technology\"}},\"secondary\":[{\"id\":\"travel/coronavirus\",\"guid\":\"cke86co9s00bj07lmgfbo562y\",\"title\":\"Coronavirus\",\"metadata\":{},\"seoTitle\":\"Latest Coronavirus cases and news\",\"seoDescription\":\"Coronavirus live updates, latest information and cases from Australia and the World. \",\"parent\":{\"id\":\"travel\",\"guid\":\"cke86a8pa000207lm4i8sdlw2\",\"title\":\"Travel\",\"metadata\":{},\"seoTitle\":\"Travel\"}},{\"id\":\"politics/federal-politics\",\"guid\":\"cke86ea5k00jg07lm2bama4o2\",\"title\":\"Federal Politics\",\"metadata\":{},\"seoTitle\":\"Federal Politics\",\"parent\":{\"id\":\"politics\",\"guid\":\"cke86ac5n000h07lmbvw45om2\",\"title\":\"Politics\",\"metadata\":{},\"seoTitle\":\"Politics\",\"seoDescription\":\"The latest local, national and international politics news. Find out the decisions politicians are making which could affect you.\"}},{\"id\":\"lifestyle/health-wellbeing\",\"guid\":\"cke86ehg500kg07lm6dps4euv\",\"title\":\"Health & Wellbeing\",\"metadata\":{},\"seoTitle\":\"Health & Wellbeing\",\"parent\":{\"id\":\"lifestyle\",\"guid\":\"cke86aefd000s07lmhwrg2huw\",\"title\":\"Lifestyle\",\"metadata\":{},\"seoTitle\":\"Lifestyle\",\"seoDescription\":\"The latest lifestyle content featuring recipes, Perth\\'s best food, health and wellbeing advice and tips for your garden and home.\"}},{\"id\":\"news/public-health\",\"guid\":\"cke86cba4009u07lm3nw83gjr\",\"title\":\"Public Health\",\"metadata\":{},\"seoTitle\":\"Public Health\",\"parent\":{\"id\":\"news\",\"guid\":\"cke86a86z000007lmf10g7p14\",\"title\":\"News\",\"metadata\":{},\"seoTitle\":\"News\",\"seoDescription\":\"The latest news at home and across the world featuring news on Western Australia, Australia, the world and other topics you are interested in.\"}},{\"id\":\"technology\",\"guid\":\"cke86ag7p001007lm9v216yjh\",\"title\":\"Technology\",\"metadata\":{},\"seoTitle\":\"Technology\"},{\"id\":\"news/travel\",\"guid\":\"cke86ajaf001e07lmh1hehu46\",\"title\":\"Travel\",\"metadata\":{},\"seoTitle\":\"Travel\",\"parent\":{\"id\":\"news\",\"guid\":\"cke86a86z000007lmf10g7p14\",\"title\":\"News\",\"metadata\":{},\"seoTitle\":\"News\",\"seoDescription\":\"The latest news at home and across the world featuring news on Western Australia, Australia, the world and other topics you are interested in.\"}}]},\"heading\":\"DFAT unintentionally discloses email addresses of 200 Australians stranded overseas\",\"byline\":{\"text\":\"Pip Christmass\"},\"headKicker\":\"data breach\",\"homepageHead\":\"DFAT unintentionally discloses email details of Aussies stranded overseas\",\"homepageTeaser\":\"DFAT issued an apology after it was revealed that the email addresses of 200 Australians stranded abroad had been made public. \",\"cardImages\":[],\"mainImages\":[{\"format\":\"image/jpeg\",\"src\":\"https://images.s.7news.com.au/publication/C-1355271/f818248121274306c9d3e239130b05471f79547c.jpg\",\"reference\":\"https://images.s.7news.com.au/publication/C-1355271/f818248121274306c9d3e239130b05471f79547c.jpg\",\"width\":6048,\"height\":4024,\"dimensions\":\"6048x4024\",\"ratio\":{\"width\":6048,\"height\":4024},\"credit\":\"Getty Images\",\"captionText\":\"DFAT issued an apology after it was revealed that the email addresses of 200 Australians stranded abroad had been made public. \",\"byline\":\"Stefan Cristian Cioata\"},{\"format\":\"image/jpeg\",\"src\":\"https://images.s.7news.com.au/publication/C-1355271/f818248121274306c9d3e239130b05471f79547c-16x9-x0y311w6048h3402.jpg\",\"reference\":\"https://images.s.7news.com.au/publication/C-1355271/f818248121274306c9d3e239130b05471f79547c-16x9-x0y311w6048h3402.jpg\",\"width\":6048,\"height\":3402,\"dimensions\":\"6048x3402\",\"ratio\":\"16:9\",\"credit\":\"Getty Images\",\"captionText\":\"DFAT issued an apology after it was revealed that the email addresses of 200 Australians stranded abroad had been made public. \",\"byline\":\"Stefan Cristian Cioata\"},{\"format\":\"image/jpeg\",\"src\":\"https://images.s.7news.com.au/publication/C-1355271/f818248121274306c9d3e239130b05471f79547c-4x3-x341y0w5365h4024.jpg\",\"reference\":\"https://images.s.7news.com.au/publication/C-1355271/f818248121274306c9d3e239130b05471f79547c-4x3-x341y0w5365h4024.jpg\",\"width\":5365,\"height\":4024,\"dimensions\":\"5365x4024\",\"ratio\":\"4:3\",\"credit\":\"Getty Images\",\"captionText\":\"DFAT issued an apology after it was revealed that the email addresses of 200 Australians stranded abroad had been made public. \",\"byline\":\"Stefan Cristian Cioata\"},{\"format\":\"image/jpeg\",\"src\":\"https://images.s.7news.com.au/publication/C-1355271/f818248121274306c9d3e239130b05471f79547c-161x229-x1609y0w2829h4024.jpg\",\"reference\":\"https://images.s.7news.com.au/publication/C-1355271/f818248121274306c9d3e239130b05471f79547c-161x229-x1609y0w2829h4024.jpg\",\"width\":2829,\"height\":4024,\"dimensions\":\"2829x4024\",\"ratio\":\"161:229\",\"credit\":\"Getty Images\",\"captionText\":\"DFAT issued an apology after it was revealed that the email addresses of 200 Australians stranded abroad had been made public. \",\"byline\":\"Stefan Cristian Cioata\"}],\"mainVideo\":{\"accountId\":\"4761797480001\",\"heading\":\"Evening COVID-19 update - September 30\",\"kind\":\"video\",\"posterImage\":{\"height\":360,\"width\":640,\"reference\":\"https://images.s.7news.com.au/publication/6195925096001/92a925d12a4b1f8f1e563f8d523414d8bbefea7d.jpg\",\"src\":\"https://images.s.7news.com.au/publication/6195925096001/92a925d12a4b1f8f1e563f8d523414d8bbefea7d.jpg\",\"dimensions\":\"640x360\",\"format\":\"\",\"ratio\":\"16:9\"},\"videoDescription\":\"The latest on the coronavirus pandemic.\",\"videoId\":\"6195925096001\",\"videoType\":\"vod\",\"ingestChannel\":\"vizstory\"},\"socialImage\":null,\"slug\":\"dfat-unintentionally-discloses-email-addresses-of-200-australians-stranded-overseas-c-1355271\",\"socialHead\":\"\",\"socialTeaser\":\"\",\"seoHead\":\"\",\"isSponsored\":false,\"layoutView\":\"default\",\"redirectUrl\":null,\"promotionType\":null,\"canonicalUrl\":null,\"canonicalTitle\":null,\"blogState\":null,\"profiles\":[{\"name\":\"Pip Christmass\",\"slug\":\"pip-christmass\",\"email\":\"pchristmass@seven.com.au\",\"position\":\"Perth News Journalist\",\"biography\":\"Pip Christmass is Perth News Journalist for 7NEWS.com.au. Prior to joining the team, Pip was Perth News Producer for Yahoo7. Before a brief stint in Melbourne as a freelance arts and fashion writer for Broadsheet, Pip spent seven years as a features journalist for The West Australian newspaper, writing about art, movies, fashion and entertainment.\",\"twitter\":\"pipchristmasssev1\"}],\"allowCommenting\":false},{\"_self\":\"https://7news.com.au/the-morning-show/deputy-pm-michael-mccormack-breaks-down-the-135-million-funding-boost-for-the-regions-c-1352927\",\"id\":\"C-1352927\",\"kind\":\"article\",\"status\":\"live\",\"isLiveContent\":false,\"isPremium\":false,\"requiredAccess\":{\"level\":\"anonymous\"},\"source\":\"The Morning Show\",\"publicationDate\":\"2020-09-30T00:38:34.000Z\",\"created\":\"2020-09-29T23:42:06.000Z\",\"lastUpdated\":\"2020-09-30T00:38:45.678Z\",\"expiryDate\":null,\"topics\":{\"primary\":{\"id\":\"the-morning-show\",\"guid\":\"cke86bulr007j07lmdrz42kmo\",\"title\":\"The Morning Show\",\"metadata\":{},\"seoTitle\":\"The Morning Show\"},\"secondary\":[{\"id\":\"politics/federal-politics\",\"guid\":\"cke86ea5k00jg07lm2bama4o2\",\"title\":\"Federal Politics\",\"metadata\":{},\"seoTitle\":\"Federal Politics\",\"parent\":{\"id\":\"politics\",\"guid\":\"cke86ac5n000h07lmbvw45om2\",\"title\":\"Politics\",\"metadata\":{},\"seoTitle\":\"Politics\",\"seoDescription\":\"The latest local, national and international politics news. Find out the decisions politicians are making which could affect you.\"}},{\"id\":\"politics/regional-politics\",\"guid\":\"cke86egdl00kb07lm4zchb2rc\",\"title\":\"Regional Politics\",\"metadata\":{},\"seoTitle\":\"Regional Politics\",\"parent\":{\"id\":\"politics\",\"guid\":\"cke86ac5n000h07lmbvw45om2\",\"title\":\"Politics\",\"metadata\":{},\"seoTitle\":\"Politics\",\"seoDescription\":\"The latest local, national and international politics news. Find out the decisions politicians are making which could affect you.\"}},{\"id\":\"the-morning-show/story-info\",\"guid\":\"cke86el4a00kx07lm0zqtardi\",\"title\":\"Story Info\",\"metadata\":{},\"seoTitle\":\"Story Info\",\"parent\":{\"id\":\"the-morning-show\",\"guid\":\"cke86bulr007j07lmdrz42kmo\",\"title\":\"The Morning Show\",\"metadata\":{},\"seoTitle\":\"The Morning Show\"}}]},\"heading\":\"Deputy PM Michael McCormack breaks down the $135 million funding boost for the regions\",\"byline\":{\"text\":\"Jenny Ky\"},\"headKicker\":\"\\'WELL WORTH SPENDING\\' \",\"homepageHead\":\"Michael McCormack defends government\\'s extra $135m funding boost for regional Australia\",\"homepageTeaser\":\"The latest announcement comes on top of a $250 million boost to regional areas that was announced over the weekend. \",\"cardImages\":[],\"mainImages\":[{\"format\":\"image/jpeg\",\"src\":\"https://images.s.7news.com.au/publication/C-1352927/8e443e2a9f8cac6f347b51d4d58a89ef5cb59273-16x9-x0y0w1304h734.jpg\",\"reference\":\"https://images.s.7news.com.au/publication/C-1352927/8e443e2a9f8cac6f347b51d4d58a89ef5cb59273-16x9-x0y0w1304h734.jpg\",\"width\":1304,\"height\":734,\"dimensions\":\"1304x734\",\"ratio\":\"16:9\",\"credit\":\"Getty Images/7NEWS Digital\",\"captionText\":\"The latest announcement comes on top of a $250 million boost to regional areas that was announced over the weekend. \"},{\"format\":\"image/jpeg\",\"src\":\"https://images.s.7news.com.au/publication/C-1352927/8e443e2a9f8cac6f347b51d4d58a89ef5cb59273-4x3-x0y0w979h734.jpg\",\"reference\":\"https://images.s.7news.com.au/publication/C-1352927/8e443e2a9f8cac6f347b51d4d58a89ef5cb59273-4x3-x0y0w979h734.jpg\",\"width\":979,\"height\":734,\"dimensions\":\"979x734\",\"ratio\":\"4:3\",\"credit\":\"Getty Images/7NEWS Digital\",\"captionText\":\"The latest announcement comes on top of a $250 million boost to regional areas that was announced over the weekend. \"},{\"format\":\"image/jpeg\",\"src\":\"https://images.s.7news.com.au/publication/C-1352927/8e443e2a9f8cac6f347b51d4d58a89ef5cb59273-161x229-x18y0w516h734.jpg\",\"reference\":\"https://images.s.7news.com.au/publication/C-1352927/8e443e2a9f8cac6f347b51d4d58a89ef5cb59273-161x229-x18y0w516h734.jpg\",\"width\":516,\"height\":734,\"dimensions\":\"516x734\",\"ratio\":\"161:229\",\"credit\":\"Getty Images/7NEWS Digital\",\"captionText\":\"The latest announcement comes on top of a $250 million boost to regional areas that was announced over the weekend. \"}],\"mainVideo\":{\"accountId\":\"4761797480001\",\"heading\":\"Michael McCormack defends government\\'s extra $135m funding boost for regional Australia\",\"kind\":\"video\",\"posterImage\":{\"height\":360,\"width\":640,\"reference\":\"https://images.s.7news.com.au/publication/6195806934001/33e4171f529aad442bd7bdc3315c25e3f21cbe5f.jpg\",\"src\":\"https://images.s.7news.com.au/publication/6195806934001/33e4171f529aad442bd7bdc3315c25e3f21cbe5f.jpg\",\"dimensions\":\"640x360\",\"format\":\"\",\"ratio\":\"16:9\"},\"videoDescription\":\"Today, regional Australia will be given a further $135 million funding injection.\",\"videoId\":\"6195806934001\",\"videoType\":\"vod\",\"ingestChannel\":\"vizstory\"},\"socialImage\":null,\"slug\":\"deputy-pm-michael-mccormack-breaks-down-the-135-million-funding-boost-for-the-regions-c-1352927\",\"socialHead\":\"\",\"socialTeaser\":\"\",\"seoHead\":\"Deputy PM Michael McCormack announces $135 million funding boost for regional Australia\",\"isSponsored\":false,\"layoutView\":\"default\",\"redirectUrl\":null,\"promotionType\":null,\"canonicalUrl\":null,\"canonicalTitle\":null,\"blogState\":null,\"profiles\":[{\"name\":\"Jenny Ky\",\"slug\":\"jenny-ky\",\"email\":\"jenny@7news.com.au\",\"position\":\"Digital Producer\",\"biography\":\"Jenny Ky is Digital Producer for The Morning Show and has previously worked on other Channel 7 brands such as Sunrise, My Kitchen Rules and 800 Words. As a long-time fangirl when it comes to film and TV, Jenny has picked up numerous skills along the way - from website management to social media, writing articles, and creating videos - bringing a diverse range of experience to an environment that’s constantly changing.\",\"twitter\":\"jnskyy\"}],\"allowCommenting\":false},{\"_self\":\"https://7news.com.au/entertainment/new-rules-to-change-commercial-tv-menu-c-1353006\",\"id\":\"C-1353006\",\"kind\":\"article\",\"status\":\"live\",\"isLiveContent\":false,\"isPremium\":false,\"requiredAccess\":{\"level\":\"anonymous\"},\"source\":\"AAP\",\"publicationDate\":\"2020-09-30T00:16:52.000Z\",\"created\":\"2020-09-30T00:16:52.000Z\",\"lastUpdated\":\"2020-09-30T01:25:34.839Z\",\"expiryDate\":null,\"topics\":{\"primary\":{\"id\":\"entertainment\",\"guid\":\"cke86atjg002o07lm2bhmdhvg\",\"title\":\"Entertainment\",\"metadata\":{},\"seoTitle\":\"Entertainment\",\"seoDescription\":\"The latest entertainment news featuring movie reviews, TV show coverage, celebrity gossip and the latest from Perth\\'s arts scene.\"},\"secondary\":[{\"id\":\"politics/federal-politics\",\"guid\":\"cke86ea5k00jg07lm2bama4o2\",\"title\":\"Federal Politics\",\"metadata\":{},\"seoTitle\":\"Federal Politics\",\"parent\":{\"id\":\"politics\",\"guid\":\"cke86ac5n000h07lmbvw45om2\",\"title\":\"Politics\",\"metadata\":{},\"seoTitle\":\"Politics\",\"seoDescription\":\"The latest local, national and international politics news. Find out the decisions politicians are making which could affect you.\"}},{\"id\":\"lifestyle/parenting\",\"guid\":\"cke86cx7s00cs07lm281qb2db\",\"title\":\"Parenting\",\"metadata\":{},\"seoTitle\":\"Parenting\",\"parent\":{\"id\":\"lifestyle\",\"guid\":\"cke86aefd000s07lmhwrg2huw\",\"title\":\"Lifestyle\",\"metadata\":{},\"seoTitle\":\"Lifestyle\",\"seoDescription\":\"The latest lifestyle content featuring recipes, Perth\\'s best food, health and wellbeing advice and tips for your garden and home.\"}},{\"id\":\"politics\",\"guid\":\"cke86ac5n000h07lmbvw45om2\",\"title\":\"Politics\",\"metadata\":{},\"seoTitle\":\"Politics\",\"seoDescription\":\"The latest local, national and international politics news. Find out the decisions politicians are making which could affect you.\"},{\"id\":\"entertainment/tv\",\"guid\":\"cke86bnw4006m07lmcbxrdk6g\",\"title\":\"TV\",\"metadata\":{},\"seoTitle\":\"TV\",\"parent\":{\"id\":\"entertainment\",\"guid\":\"cke86atjg002o07lm2bhmdhvg\",\"title\":\"Entertainment\",\"metadata\":{},\"seoTitle\":\"Entertainment\",\"seoDescription\":\"The latest entertainment news featuring movie reviews, TV show coverage, celebrity gossip and the latest from Perth\\'s arts scene.\"}}]},\"heading\":\"Children\\'s content on Australian television expected to shrink under new rules\",\"byline\":{\"text\":\"Paul Osborne\"},\"headKicker\":\"On the box\",\"homepageHead\":\"Why children\\'s content on Australian TV is set to dwindle\",\"homepageTeaser\":\"Aussie kids\\' favourite programs could be cut to make way for bigger-budget drama shows.\",\"cardImages\":[],\"mainImages\":[{\"format\":\"image/jpeg\",\"src\":\"https://images.s.7news.com.au/publication/C-1353006/6ae70ff5e7704ea0b5c78fb143305848533d87d7-16x9-x0y126w800h450.jpg\",\"reference\":\"https://images.s.7news.com.au/publication/C-1353006/6ae70ff5e7704ea0b5c78fb143305848533d87d7-16x9-x0y126w800h450.jpg\",\"width\":800,\"height\":450,\"dimensions\":\"800x450\",\"ratio\":\"16:9\",\"credit\":\"AAP\",\"captionText\":\"With the ABC dominating children\\'s content, commercial TV will be allowed to shift money elsewhere.\",\"copyrightByline\":\"AAP\"},{\"format\":\"image/jpeg\",\"src\":\"https://images.s.7news.com.au/publication/C-1353006/6ae70ff5e7704ea0b5c78fb143305848533d87d7-4x3-x0y0w800h600.jpg\",\"reference\":\"https://images.s.7news.com.au/publication/C-1353006/6ae70ff5e7704ea0b5c78fb143305848533d87d7-4x3-x0y0w800h600.jpg\",\"width\":800,\"height\":600,\"dimensions\":\"800x600\",\"ratio\":\"4:3\",\"credit\":\"AAP\",\"captionText\":\"With the ABC dominating children\\'s content, commercial TV will be allowed to shift money elsewhere.\",\"copyrightByline\":\"AAP\"},{\"format\":\"image/jpeg\",\"src\":\"https://images.s.7news.com.au/publication/C-1353006/6ae70ff5e7704ea0b5c78fb143305848533d87d7-161x229-x214y0w422h600.jpg\",\"reference\":\"https://images.s.7news.com.au/publication/C-1353006/6ae70ff5e7704ea0b5c78fb143305848533d87d7-161x229-x214y0w422h600.jpg\",\"width\":422,\"height\":600,\"dimensions\":\"422x600\",\"ratio\":\"161:229\",\"credit\":\"AAP\",\"captionText\":\"With the ABC dominating children\\'s content, commercial TV will be allowed to shift money elsewhere.\",\"copyrightByline\":\"AAP\"}],\"mainVideo\":{\"accountId\":\"4761797480001\",\"heading\":\"Boy swooped by magpie in viral video speaks to Sam and Kochie\",\"kind\":\"video\",\"posterImage\":{\"height\":360,\"width\":640,\"reference\":\"https://images.s.7news.com.au/publication/6195781738001/f39de43599ddc45587366ded1f23468da99f1064.jpg\",\"src\":\"https://images.s.7news.com.au/publication/6195781738001/f39de43599ddc45587366ded1f23468da99f1064.jpg\",\"dimensions\":\"640x360\",\"format\":\"\",\"ratio\":\"16:9\"},\"videoDescription\":\"Boy swooped by magpie in viral video speaks to Sam and Kochie\",\"videoId\":\"6195781738001\",\"videoType\":\"vod\",\"ingestChannel\":\"vizstory\"},\"socialImage\":null,\"slug\":\"new-rules-to-change-commercial-tv-menu-c-1353006\",\"socialHead\":\"\",\"socialTeaser\":\"\",\"seoHead\":\"Kids TV content on Australian free-to-air expected to shrink under new rules\",\"isSponsored\":false,\"layoutView\":\"default\",\"redirectUrl\":null,\"promotionType\":null,\"canonicalUrl\":null,\"canonicalTitle\":null,\"blogState\":null,\"profiles\":[],\"allowCommenting\":false}]}'"
      ]
     },
     "execution_count": 11,
     "metadata": {},
     "output_type": "execute_result"
    }
   ],
   "source": [
    "response.html.html"
   ]
  },
  {
   "cell_type": "code",
   "execution_count": 12,
   "metadata": {},
   "outputs": [],
   "source": [
    "generic_spider.parse(response)"
   ]
  },
  {
   "cell_type": "code",
   "execution_count": 13,
   "metadata": {},
   "outputs": [
    {
     "data": {
      "text/plain": [
       "[{'url': 'https://7news.com.au/sunrise/on-the-show/prime-minister-scott-morrison-pictured-on-the-tools-making-diy-chicken-coop-in-his-backyard-c-1363458',\n",
       "  'title': 'Prime Minister Scott Morrison pictured on the tools making DIY chicken coop in his backyard',\n",
       "  'date': '2020-10-04T19:11:37.000Z'},\n",
       " {'url': 'https://7news.com.au/business/finance/budget-to-lift-economy-from-pandemic-mire-c-1363312',\n",
       "  'title': 'Budget to lift economy from pandemic mire',\n",
       "  'date': '2020-10-04T16:36:08.000Z'},\n",
       " {'url': 'https://7news.com.au/lifestyle/health-wellbeing/report-calls-for-urgent-aged-care-changes-c-1358746',\n",
       "  'title': 'Aged care royal commission report calls for urgent changes',\n",
       "  'date': '2020-10-01T17:35:34.000Z'},\n",
       " {'url': 'https://7news.com.au/business/finance/federal-budget-2020-what-we-know-so-far-c-1356087',\n",
       "  'title': 'Federal Budget 2020 - what we know so far',\n",
       "  'date': '2020-09-30T21:08:59.000Z'},\n",
       " {'url': 'https://7news.com.au/business/finance/port-botany-dispute-industrial-action-talks-enter-second-day-c-1355790',\n",
       "  'title': 'Port Botany industrial action talks enter second day',\n",
       "  'date': '2020-09-30T19:16:34.000Z'},\n",
       " {'url': 'https://7news.com.au/technology/security/dfat-unintentionally-discloses-email-addresses-of-200-australians-stranded-overseas-c-1355271',\n",
       "  'title': 'DFAT unintentionally discloses email addresses of 200 Australians stranded overseas',\n",
       "  'date': '2020-09-30T12:26:16.000Z'},\n",
       " {'url': 'https://7news.com.au/the-morning-show/deputy-pm-michael-mccormack-breaks-down-the-135-million-funding-boost-for-the-regions-c-1352927',\n",
       "  'title': 'Deputy PM Michael McCormack breaks down the $135 million funding boost for the regions',\n",
       "  'date': '2020-09-30T00:38:34.000Z'},\n",
       " {'url': 'https://7news.com.au/entertainment/new-rules-to-change-commercial-tv-menu-c-1353006',\n",
       "  'title': \"Children's content on Australian television expected to shrink under new rules\",\n",
       "  'date': '2020-09-30T00:16:52.000Z'}]"
      ]
     },
     "execution_count": 13,
     "metadata": {},
     "output_type": "execute_result"
    }
   ],
   "source": [
    "generic_spider.all_json_to_send"
   ]
  },
  {
   "cell_type": "code",
   "execution_count": 14,
   "metadata": {},
   "outputs": [],
   "source": [
    "assert(len(generic_spider.all_json_to_send)>0) "
   ]
  },
  {
   "cell_type": "code",
   "execution_count": 15,
   "metadata": {},
   "outputs": [],
   "source": [
    "assert validators.url(generic_spider.all_json_to_send[0][\"url\"])"
   ]
  },
  {
   "cell_type": "code",
   "execution_count": 16,
   "metadata": {},
   "outputs": [],
   "source": [
    "SEED_SCRAP = 'https://7news.com.au/business/finance/fraud-admissions-from-former-union-boss-kathy-jackson-c-1365795'"
   ]
  },
  {
   "cell_type": "code",
   "execution_count": 17,
   "metadata": {},
   "outputs": [],
   "source": [
    "QUERY_CONTENT =  \"//p\""
   ]
  },
  {
   "cell_type": "code",
   "execution_count": 18,
   "metadata": {},
   "outputs": [],
   "source": [
    "MESSAGE_JSON = dict()\n",
    "MESSAGE_JSON['date']  = generic_spider.all_json_to_send[0][\"date\"]\n",
    "MESSAGE_JSON['title'] = generic_spider.all_json_to_send[0][\"title\"]"
   ]
  },
  {
   "cell_type": "code",
   "execution_count": null,
   "metadata": {},
   "outputs": [],
   "source": []
  },
  {
   "cell_type": "code",
   "execution_count": 19,
   "metadata": {},
   "outputs": [],
   "source": [
    "# -*- coding: utf-8 -*-\n",
    "# -*- coding: utf-8 -*-\n",
    "import json\n",
    "import w3lib.html\n",
    "import random\n",
    "import os\n",
    "import datetime\n",
    "import requests\n",
    "import string\n",
    "import calendar\n",
    "import html\n",
    "import locale \n",
    "from requests_html import HTMLSession\n",
    "\n",
    "class Australianews7ScrapSpider:\n",
    "    \n",
    "    USER_AGENT_LIST = [\n",
    "        \"Mozilla/5.0 (Windows NT 6.1; WOW64) AppleWebKit/537.1 (KHTML, like Gecko) Chrome/22.0.1207.1 Safari/537.1\",\n",
    "        \"Mozilla/5.0 (X11; CrOS i686 2268.111.0) AppleWebKit/536.11 (KHTML, like Gecko) Chrome/20.0.1132.57 Safari/536.11\",\n",
    "        \"Mozilla/5.0 (Windows NT 6.1; WOW64) AppleWebKit/536.6 (KHTML, like Gecko) Chrome/20.0.1092.0 Safari/536.6\",\n",
    "        \"Mozilla/5.0 (Windows NT 6.2) AppleWebKit/536.6 (KHTML, like Gecko) Chrome/20.0.1090.0 Safari/536.6\",\n",
    "        \"Mozilla/5.0 (Windows NT 6.2; WOW64) AppleWebKit/537.1 (KHTML, like Gecko) Chrome/19.77.34.5 Safari/537.1\",\n",
    "        \"Mozilla/5.0 (X11; Linux x86_64) AppleWebKit/536.5 (KHTML, like Gecko) Chrome/19.0.1084.9 Safari/536.5\",\n",
    "        \"Mozilla/5.0 (Windows NT 6.0) AppleWebKit/536.5 (KHTML, like Gecko) Chrome/19.0.1084.36 Safari/536.5\",\n",
    "        \"Mozilla/5.0 (Windows NT 6.1; WOW64) AppleWebKit/536.3 (KHTML, like Gecko) Chrome/19.0.1063.0 Safari/536.3\",\n",
    "        \"Mozilla/5.0 (Windows NT 5.1) AppleWebKit/536.3 (KHTML, like Gecko) Chrome/19.0.1063.0 Safari/536.3\",\n",
    "        \"Mozilla/5.0 (Macintosh; Intel Mac OS X 10_8_0) AppleWebKit/536.3 (KHTML, like Gecko) Chrome/19.0.1063.0 Safari/536.3\",\n",
    "        \"Mozilla/5.0 (Windows NT 6.2) AppleWebKit/536.3 (KHTML, like Gecko) Chrome/19.0.1062.0 Safari/536.3\",\n",
    "        \"Mozilla/5.0 (Windows NT 6.1; WOW64) AppleWebKit/536.3 (KHTML, like Gecko) Chrome/19.0.1062.0 Safari/536.3\",\n",
    "        \"Mozilla/5.0 (Windows NT 6.2) AppleWebKit/536.3 (KHTML, like Gecko) Chrome/19.0.1061.1 Safari/536.3\",\n",
    "        \"Mozilla/5.0 (Windows NT 6.1; WOW64) AppleWebKit/536.3 (KHTML, like Gecko) Chrome/19.0.1061.1 Safari/536.3\",\n",
    "        \"Mozilla/5.0 (Windows NT 6.1) AppleWebKit/536.3 (KHTML, like Gecko) Chrome/19.0.1061.1 Safari/536.3\",\n",
    "        \"Mozilla/5.0 (Windows NT 6.2) AppleWebKit/536.3 (KHTML, like Gecko) Chrome/19.0.1061.0 Safari/536.3\",\n",
    "        \"Mozilla/5.0 (X11; Linux x86_64) AppleWebKit/535.24 (KHTML, like Gecko) Chrome/19.0.1055.1 Safari/535.24\",\n",
    "        \"Mozilla/5.0 (Windows NT 6.2; WOW64) AppleWebKit/535.24 (KHTML, like Gecko) Chrome/19.0.1055.1 Safari/535.24\"\n",
    "    ]\n",
    "\n",
    "\n",
    "\n",
    "    query_extract_text =  QUERY_CONTENT\n",
    "\n",
    "    news_title = MESSAGE_JSON['title']\n",
    "    date = MESSAGE_JSON['date']\n",
    "\n",
    "    def _init_(self):\n",
    "        pass\n",
    "\n",
    "    def clean_text(self, html_text):\n",
    "        text_without_tags = w3lib.html.remove_tags(html_text)\n",
    "        text_without_escape_chars = w3lib.html.replace_escape_chars(text_without_tags)\n",
    "        text_without_escape_chars = html.unescape(text_without_escape_chars)\n",
    "        text_without_whitespace = text_without_escape_chars.strip()\n",
    "        return text_without_whitespace\n",
    "\n",
    "    def replace_month_name_to_number(self,date_string):\n",
    "        lower_string = date_string.lower()\n",
    "        for month_id in range(1, 13):\n",
    "            if(lower_string.find(calendar.month_name[month_id].lower())!=-1):\n",
    "                if(month_id>=10):\n",
    "                    return (lower_string.replace(calendar.month_name[month_id].lower(),str(month_id)))\n",
    "                else:\n",
    "                    return (lower_string.replace(calendar.month_name[month_id].lower(),\"0\"+str(month_id)))\n",
    "            if(lower_string.find(calendar.month_abbr[month_id].lower())!=-1):\n",
    "                if(month_id>=10):\n",
    "                    return (lower_string.replace(calendar.month_abbr[month_id].lower(),str(month_id)))\n",
    "                else:\n",
    "                    return (lower_string.replace(calendar.month_abbr[month_id].lower(),\"0\"+str(month_id)))\n",
    "                    \n",
    "\n",
    "    def format_date(self,date):\n",
    "        date = date.split(\"T\")[0]\n",
    "        return(date)\n",
    "\n",
    "    \n",
    "    def parse(self, response):\n",
    "        self.news_text = []\n",
    "        self.message_to_send = []\n",
    "        self.scraped_url = response.url\n",
    "\n",
    "        self.news_title = self.clean_text(self.news_title)\n",
    "        self.date = self.clean_text(self.date)\n",
    "        self.date = self.format_date(self.date)\n",
    "        \n",
    "        news_text_extracted_response = response.html.xpath(self.query_extract_text)\n",
    "        for part_of_body in news_text_extracted_response:\n",
    "            stripped_html_tags = w3lib.html.remove_tags(part_of_body.text)\n",
    "            self.news_text.append(stripped_html_tags)\n",
    "\n",
    "        \n",
    "\n",
    "    def start_request(self,url):\n",
    "        headers = {'user-agent':random.choice(self.USER_AGENT_LIST) }\n",
    "        session = HTMLSession()\n",
    "        response = session.get(url,headers=headers)        \n",
    "        return response  \n",
    "\n",
    "\n"
   ]
  },
  {
   "cell_type": "code",
   "execution_count": 20,
   "metadata": {},
   "outputs": [],
   "source": [
    "generic_scrap_spider = Australianews7ScrapSpider()"
   ]
  },
  {
   "cell_type": "code",
   "execution_count": 21,
   "metadata": {},
   "outputs": [],
   "source": [
    "response =generic_scrap_spider.start_request(SEED_SCRAP)"
   ]
  },
  {
   "cell_type": "code",
   "execution_count": 22,
   "metadata": {},
   "outputs": [],
   "source": [
    "generic_scrap_spider.parse(response)"
   ]
  },
  {
   "cell_type": "code",
   "execution_count": 23,
   "metadata": {},
   "outputs": [
    {
     "data": {
      "text/plain": [
       "'Prime Minister Scott Morrison pictured on the tools making DIY chicken coop in his backyard'"
      ]
     },
     "execution_count": 23,
     "metadata": {},
     "output_type": "execute_result"
    }
   ],
   "source": [
    "generic_scrap_spider.news_title"
   ]
  },
  {
   "cell_type": "code",
   "execution_count": 24,
   "metadata": {},
   "outputs": [
    {
     "data": {
      "text/plain": [
       "['Former Health Services Union boss Kathy Jackson defrauded members of more than $100,000.',\n",
       " 'The union’s ex-national secretary on Monday pleaded guilty to two charges of obtaining financial advantage by deception.',\n",
       " 'Court documents show she misused her job to evade $67,792.85 in personal credit card debt between July 2003 and November 2010.',\n",
       " 'Her admissions lift a legal cone of silence from an earlier jury verdict which found Jackson guilty of two similar offences relating to about $35,000.',\n",
       " 'When Jackson took the stand in Victoria’s County Court last year, she denied any wrongdoing.',\n",
       " '“I absolutely did not take any money that I was not entitled to, I did not steal from the HSU,” she told the jury.',\n",
       " '“I am just absolutely devastated that I have ended up in this position by trying to do the right thing.”',\n",
       " 'After a two-month trial, jurors found her guilty of twice obtaining financial advantage by deception, but cleared her of more than a dozen counts of theft and obtaining property by deception.',\n",
       " 'Jackson transferred $22,000 in union funds in 2008 to buy a Mercedes Benz from the husband of the union’s former legal advisor.',\n",
       " 'She also claimed $13,100 for travel reimbursements from the union for travel and accommodation in the United States.',\n",
       " 'In the offences admitted on Monday, Jackson claimed money from the union for personal items including travel.',\n",
       " 'Jackson was the union’s national secretary from 2008 to 2015, collecting a salary in excess of $100,000 to oversee the movement that represents health professionals including doctors, nurses and paramedics.',\n",
       " 'She was lauded for blowing the whistle on her predecessor, former Labor MP Craig Thomson, and former union general secretary Michael Williamson in 2011.',\n",
       " 'Williamson was later jailed for leeching almost $1 million from the union and recruiting others to hinder a police investigation.',\n",
       " 'Thomson was fined $25,000 following his conviction for 13 counts of theft.',\n",
       " 'After Jackson’s own fall from grace, she declared bankruptcy.',\n",
       " 'The Federal Court ruled she owed the union $2.4 million, including for funds misappropriated for groceries, travel, entertainment and even her divorce.',\n",
       " 'Jackson will return to court for sentencing at a later date.']"
      ]
     },
     "execution_count": 24,
     "metadata": {},
     "output_type": "execute_result"
    }
   ],
   "source": [
    "generic_scrap_spider.news_text"
   ]
  },
  {
   "cell_type": "code",
   "execution_count": 25,
   "metadata": {},
   "outputs": [
    {
     "data": {
      "text/plain": [
       "'2020-10-04'"
      ]
     },
     "execution_count": 25,
     "metadata": {},
     "output_type": "execute_result"
    }
   ],
   "source": [
    "generic_scrap_spider.date"
   ]
  },
  {
   "cell_type": "code",
   "execution_count": 26,
   "metadata": {},
   "outputs": [],
   "source": [
    "def validate(date_text):\n",
    "    try:\n",
    "        datetime.datetime.strptime(date_text, \"%Y-%m-%d\")\n",
    "        return True\n",
    "    except:\n",
    "        print(\"La fecha no tiene el formato correcto, año-mes-dia\")\n",
    "        return False\n",
    "        "
   ]
  },
  {
   "cell_type": "code",
   "execution_count": 27,
   "metadata": {},
   "outputs": [],
   "source": [
    "assert len(generic_scrap_spider.news_title)>0,\"No se esta extrayendo el titulo\"\n",
    "assert len(generic_scrap_spider.news_text)>0,\"No se está extrayendo el contenido de la noticia\"\n",
    "assert validate(generic_scrap_spider.date),\"La fecha no tiene el formato correcto, año-mes-dia\""
   ]
  },
  {
   "cell_type": "code",
   "execution_count": null,
   "metadata": {},
   "outputs": [],
   "source": []
  },
  {
   "cell_type": "code",
   "execution_count": null,
   "metadata": {},
   "outputs": [],
   "source": []
  },
  {
   "cell_type": "code",
   "execution_count": null,
   "metadata": {},
   "outputs": [],
   "source": []
  }
 ],
 "metadata": {
  "kernelspec": {
   "display_name": "Ambiente para scraping",
   "language": "python",
   "name": "caleucheenv"
  },
  "language_info": {
   "codemirror_mode": {
    "name": "ipython",
    "version": 3
   },
   "file_extension": ".py",
   "mimetype": "text/x-python",
   "name": "python",
   "nbconvert_exporter": "python",
   "pygments_lexer": "ipython3",
   "version": "3.8.2"
  }
 },
 "nbformat": 4,
 "nbformat_minor": 4
}
